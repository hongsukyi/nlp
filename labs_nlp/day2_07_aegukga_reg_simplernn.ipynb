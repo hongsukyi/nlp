{
 "cells": [
  {
   "cell_type": "markdown",
   "metadata": {
    "id": "-mwvomP9GHUz"
   },
   "source": [
    "# 1. RNN을 이용하여 텍스트 생성하기"
   ]
  },
  {
   "cell_type": "code",
   "execution_count": 1,
   "metadata": {
    "id": "S4uTNOaoD1bU"
   },
   "outputs": [],
   "source": [
    "import numpy as np\n",
    "from tensorflow.keras.preprocessing.text import Tokenizer\n",
    "from tensorflow.keras.preprocessing.sequence import pad_sequences\n",
    "from tensorflow.keras.utils import to_categorical\n",
    "import matplotlib.pyplot as plt\n",
    "\n",
    "from tensorflow.keras.models import Sequential\n",
    "from tensorflow.keras.layers import Embedding, Dense, SimpleRNN,Flatten\n"
   ]
  },
  {
   "cell_type": "code",
   "execution_count": 2,
   "metadata": {
    "id": "HAiu_PerD3Hf"
   },
   "outputs": [],
   "source": [
    "text = \"\"\"\n",
    "동해 물과 백두산이 마르고 닳도록 하느님이 보우하사 우리나라 만세\n",
    "무궁화 삼천리 화려강산 대한 사람 대한으로 길이 보전하세\n",
    "남산 위에 저 소나무 철갑을 두른 듯 바람 서리 불변함은 우리 기상일세\n",
    "무궁화 삼천리 화려강산 대한 사람 대한으로 길이 보전하세\n",
    "\"\"\""
   ]
  },
  {
   "cell_type": "code",
   "execution_count": 3,
   "metadata": {
    "colab": {
     "base_uri": "https://localhost:8080/"
    },
    "id": "xdHAkPfHD75-",
    "outputId": "e59d58d7-ad36-41d7-ed17-9790db03ff36"
   },
   "outputs": [
    {
     "name": "stdout",
     "output_type": "stream",
     "text": [
      "<keras.preprocessing.text.Tokenizer object at 0x000001FCDFDCEA90>\n"
     ]
    }
   ],
   "source": [
    "tokenizer = Tokenizer()\n",
    "tokenizer.fit_on_texts([text])\n",
    "print(tokenizer)"
   ]
  },
  {
   "cell_type": "code",
   "execution_count": 4,
   "metadata": {
    "colab": {
     "base_uri": "https://localhost:8080/"
    },
    "id": "xdHAkPfHD75-",
    "outputId": "e59d58d7-ad36-41d7-ed17-9790db03ff36"
   },
   "outputs": [
    {
     "name": "stdout",
     "output_type": "stream",
     "text": [
      "단어 집합의 크기 : 30\n"
     ]
    }
   ],
   "source": [
    "vocab_size = len(tokenizer.word_index) + 1\n",
    "print('단어 집합의 크기 : %d' % vocab_size)"
   ]
  },
  {
   "cell_type": "code",
   "execution_count": 5,
   "metadata": {
    "colab": {
     "base_uri": "https://localhost:8080/"
    },
    "id": "xdHAkPfHD75-",
    "outputId": "e59d58d7-ad36-41d7-ed17-9790db03ff36"
   },
   "outputs": [
    {
     "name": "stdout",
     "output_type": "stream",
     "text": [
      "token_list: [9, 10, 11, 12, 13, 14, 15, 16, 17, 1, 2, 3, 4, 5, 6, 7, 8, 18, 19, 20, 21, 22, 23, 24, 25, 26, 27, 28, 29, 1, 2, 3, 4, 5, 6, 7, 8]\n"
     ]
    }
   ],
   "source": [
    "token_list = tokenizer.texts_to_sequences([text])[0]   # [0]을 붙여야 리스트 내부의 리스트를 꺼냄\n",
    "print('token_list:', token_list)"
   ]
  },
  {
   "cell_type": "code",
   "execution_count": 6,
   "metadata": {
    "colab": {
     "base_uri": "https://localhost:8080/"
    },
    "id": "xdHAkPfHD75-",
    "outputId": "e59d58d7-ad36-41d7-ed17-9790db03ff36"
   },
   "outputs": [
    {
     "name": "stdout",
     "output_type": "stream",
     "text": [
      "{'무궁화': 1, '삼천리': 2, '화려강산': 3, '대한': 4, '사람': 5, '대한으로': 6, '길이': 7, '보전하세': 8, '동해': 9, '물과': 10, '백두산이': 11, '마르고': 12, '닳도록': 13, '하느님이': 14, '보우하사': 15, '우리나라': 16, '만세': 17, '남산': 18, '위에': 19, '저': 20, '소나무': 21, '철갑을': 22, '두른': 23, '듯': 24, '바람': 25, '서리': 26, '불변함은': 27, '우리': 28, '기상일세': 29}\n"
     ]
    }
   ],
   "source": [
    "print(tokenizer.word_index)"
   ]
  },
  {
   "cell_type": "code",
   "execution_count": 7,
   "metadata": {
    "colab": {
     "base_uri": "https://localhost:8080/"
    },
    "id": "xdHAkPfHD75-",
    "outputId": "e59d58d7-ad36-41d7-ed17-9790db03ff36"
   },
   "outputs": [],
   "source": [
    "#  Sliding window 기반 X, y 생성\n",
    "def create_xy_sliding(token_list, max_len, vocab_size):\n",
    "    input_sequences = []\n",
    "    for i in range(max_len, len(token_list)):\n",
    "        input_sequences.append(token_list[i - max_len:i + 1])\n",
    "\n",
    "    input_sequences = np.array(input_sequences)\n",
    "    print(\"\\n sliding sequences:\\n\", input_sequences)\n",
    "    \n",
    "    X = input_sequences[:, :-1]\n",
    "    y = to_categorical(input_sequences[:, -1], num_classes=vocab_size)\n",
    "    print(\"\\nsliding X:\\n\", X)\n",
    "    print(\"\\nsliding y:\\n\",y)\n",
    "    return X, y"
   ]
  },
  {
   "cell_type": "code",
   "execution_count": 8,
   "metadata": {
    "colab": {
     "base_uri": "https://localhost:8080/"
    },
    "id": "xdHAkPfHD75-",
    "outputId": "e59d58d7-ad36-41d7-ed17-9790db03ff36"
   },
   "outputs": [],
   "source": [
    "# 문장 단위 n-gram 기반 X, y 생성\n",
    "def create_xy_ngram(text, tokenizer, vocab_size):\n",
    "    sequences = []\n",
    "    for line in text.split('\\n'):\n",
    "        encoded = tokenizer.texts_to_sequences([line])[0]\n",
    "        for i in range(1, len(encoded)):\n",
    "            sequence = encoded[:i + 1]\n",
    "            sequences.append(sequence)\n",
    "\n",
    "    max_len = max(len(seq) for seq in sequences)\n",
    "    sequences = pad_sequences(sequences, maxlen=max_len, padding='pre')\n",
    "    sequences = np.array(sequences)\n",
    "    \n",
    "    print(\"\\n n-gram sequences:\\n\", sequences)\n",
    "\n",
    "    X = sequences[:, :-1]\n",
    "    y = to_categorical(sequences[:, -1], num_classes=vocab_size)\n",
    "    print(\"\\nn-gram X:\\n\", X)\n",
    "    print(\"\\nn-gram y:\\n\",y)\n",
    "    return X, y"
   ]
  },
  {
   "cell_type": "code",
   "execution_count": 9,
   "metadata": {},
   "outputs": [],
   "source": [
    "embedding_dim = 20\n",
    "hidden_units = 32\n",
    "dnn_units = 16\n",
    "max_len = 15"
   ]
  },
  {
   "cell_type": "code",
   "execution_count": 10,
   "metadata": {},
   "outputs": [],
   "source": [
    "def build_model(input_length, vocab_size):\n",
    "    model = Sequential([\n",
    "        Embedding(input_dim=vocab_size, output_dim=embedding_dim),\n",
    "        SimpleRNN(hidden_units),\n",
    "        Dense(dnn_units, activation='relu'),\n",
    "        Dense(vocab_size, activation='softmax')\n",
    "    ])\n",
    "    model.compile(loss='categorical_crossentropy', optimizer='adam', metrics=['mse'])\n",
    "    return model\n",
    "\n",
    "def plot_history(history, mode):\n",
    "    plt.figure(figsize=(7, 5))\n",
    "\n",
    "    plt.plot(history.history['loss'], label='Train Loss')\n",
    "    plt.plot(history.history['val_loss'], label='Val Loss')\n",
    "    plt.title(f'Model Loss : mode={mode} ')\n",
    "    plt.xlabel('Epoch')\n",
    "    plt.ylabel('Loss')\n",
    "    plt.legend(frameon=False,loc='best')  \n",
    "    plt.tight_layout()\n",
    "    plt.show()"
   ]
  },
  {
   "cell_type": "code",
   "execution_count": 11,
   "metadata": {},
   "outputs": [
    {
     "name": "stdout",
     "output_type": "stream",
     "text": [
      "\n",
      " sliding sequences:\n",
      " [[ 9 10 11 12 13 14 15 16 17  1  2  3  4  5  6  7]\n",
      " [10 11 12 13 14 15 16 17  1  2  3  4  5  6  7  8]\n",
      " [11 12 13 14 15 16 17  1  2  3  4  5  6  7  8 18]\n",
      " [12 13 14 15 16 17  1  2  3  4  5  6  7  8 18 19]\n",
      " [13 14 15 16 17  1  2  3  4  5  6  7  8 18 19 20]\n",
      " [14 15 16 17  1  2  3  4  5  6  7  8 18 19 20 21]\n",
      " [15 16 17  1  2  3  4  5  6  7  8 18 19 20 21 22]\n",
      " [16 17  1  2  3  4  5  6  7  8 18 19 20 21 22 23]\n",
      " [17  1  2  3  4  5  6  7  8 18 19 20 21 22 23 24]\n",
      " [ 1  2  3  4  5  6  7  8 18 19 20 21 22 23 24 25]\n",
      " [ 2  3  4  5  6  7  8 18 19 20 21 22 23 24 25 26]\n",
      " [ 3  4  5  6  7  8 18 19 20 21 22 23 24 25 26 27]\n",
      " [ 4  5  6  7  8 18 19 20 21 22 23 24 25 26 27 28]\n",
      " [ 5  6  7  8 18 19 20 21 22 23 24 25 26 27 28 29]\n",
      " [ 6  7  8 18 19 20 21 22 23 24 25 26 27 28 29  1]\n",
      " [ 7  8 18 19 20 21 22 23 24 25 26 27 28 29  1  2]\n",
      " [ 8 18 19 20 21 22 23 24 25 26 27 28 29  1  2  3]\n",
      " [18 19 20 21 22 23 24 25 26 27 28 29  1  2  3  4]\n",
      " [19 20 21 22 23 24 25 26 27 28 29  1  2  3  4  5]\n",
      " [20 21 22 23 24 25 26 27 28 29  1  2  3  4  5  6]\n",
      " [21 22 23 24 25 26 27 28 29  1  2  3  4  5  6  7]\n",
      " [22 23 24 25 26 27 28 29  1  2  3  4  5  6  7  8]]\n",
      "\n",
      "sliding X:\n",
      " [[ 9 10 11 12 13 14 15 16 17  1  2  3  4  5  6]\n",
      " [10 11 12 13 14 15 16 17  1  2  3  4  5  6  7]\n",
      " [11 12 13 14 15 16 17  1  2  3  4  5  6  7  8]\n",
      " [12 13 14 15 16 17  1  2  3  4  5  6  7  8 18]\n",
      " [13 14 15 16 17  1  2  3  4  5  6  7  8 18 19]\n",
      " [14 15 16 17  1  2  3  4  5  6  7  8 18 19 20]\n",
      " [15 16 17  1  2  3  4  5  6  7  8 18 19 20 21]\n",
      " [16 17  1  2  3  4  5  6  7  8 18 19 20 21 22]\n",
      " [17  1  2  3  4  5  6  7  8 18 19 20 21 22 23]\n",
      " [ 1  2  3  4  5  6  7  8 18 19 20 21 22 23 24]\n",
      " [ 2  3  4  5  6  7  8 18 19 20 21 22 23 24 25]\n",
      " [ 3  4  5  6  7  8 18 19 20 21 22 23 24 25 26]\n",
      " [ 4  5  6  7  8 18 19 20 21 22 23 24 25 26 27]\n",
      " [ 5  6  7  8 18 19 20 21 22 23 24 25 26 27 28]\n",
      " [ 6  7  8 18 19 20 21 22 23 24 25 26 27 28 29]\n",
      " [ 7  8 18 19 20 21 22 23 24 25 26 27 28 29  1]\n",
      " [ 8 18 19 20 21 22 23 24 25 26 27 28 29  1  2]\n",
      " [18 19 20 21 22 23 24 25 26 27 28 29  1  2  3]\n",
      " [19 20 21 22 23 24 25 26 27 28 29  1  2  3  4]\n",
      " [20 21 22 23 24 25 26 27 28 29  1  2  3  4  5]\n",
      " [21 22 23 24 25 26 27 28 29  1  2  3  4  5  6]\n",
      " [22 23 24 25 26 27 28 29  1  2  3  4  5  6  7]]\n",
      "\n",
      "sliding y:\n",
      " [[0. 0. 0. 0. 0. 0. 0. 1. 0. 0. 0. 0. 0. 0. 0. 0. 0. 0. 0. 0. 0. 0. 0. 0.\n",
      "  0. 0. 0. 0. 0. 0.]\n",
      " [0. 0. 0. 0. 0. 0. 0. 0. 1. 0. 0. 0. 0. 0. 0. 0. 0. 0. 0. 0. 0. 0. 0. 0.\n",
      "  0. 0. 0. 0. 0. 0.]\n",
      " [0. 0. 0. 0. 0. 0. 0. 0. 0. 0. 0. 0. 0. 0. 0. 0. 0. 0. 1. 0. 0. 0. 0. 0.\n",
      "  0. 0. 0. 0. 0. 0.]\n",
      " [0. 0. 0. 0. 0. 0. 0. 0. 0. 0. 0. 0. 0. 0. 0. 0. 0. 0. 0. 1. 0. 0. 0. 0.\n",
      "  0. 0. 0. 0. 0. 0.]\n",
      " [0. 0. 0. 0. 0. 0. 0. 0. 0. 0. 0. 0. 0. 0. 0. 0. 0. 0. 0. 0. 1. 0. 0. 0.\n",
      "  0. 0. 0. 0. 0. 0.]\n",
      " [0. 0. 0. 0. 0. 0. 0. 0. 0. 0. 0. 0. 0. 0. 0. 0. 0. 0. 0. 0. 0. 1. 0. 0.\n",
      "  0. 0. 0. 0. 0. 0.]\n",
      " [0. 0. 0. 0. 0. 0. 0. 0. 0. 0. 0. 0. 0. 0. 0. 0. 0. 0. 0. 0. 0. 0. 1. 0.\n",
      "  0. 0. 0. 0. 0. 0.]\n",
      " [0. 0. 0. 0. 0. 0. 0. 0. 0. 0. 0. 0. 0. 0. 0. 0. 0. 0. 0. 0. 0. 0. 0. 1.\n",
      "  0. 0. 0. 0. 0. 0.]\n",
      " [0. 0. 0. 0. 0. 0. 0. 0. 0. 0. 0. 0. 0. 0. 0. 0. 0. 0. 0. 0. 0. 0. 0. 0.\n",
      "  1. 0. 0. 0. 0. 0.]\n",
      " [0. 0. 0. 0. 0. 0. 0. 0. 0. 0. 0. 0. 0. 0. 0. 0. 0. 0. 0. 0. 0. 0. 0. 0.\n",
      "  0. 1. 0. 0. 0. 0.]\n",
      " [0. 0. 0. 0. 0. 0. 0. 0. 0. 0. 0. 0. 0. 0. 0. 0. 0. 0. 0. 0. 0. 0. 0. 0.\n",
      "  0. 0. 1. 0. 0. 0.]\n",
      " [0. 0. 0. 0. 0. 0. 0. 0. 0. 0. 0. 0. 0. 0. 0. 0. 0. 0. 0. 0. 0. 0. 0. 0.\n",
      "  0. 0. 0. 1. 0. 0.]\n",
      " [0. 0. 0. 0. 0. 0. 0. 0. 0. 0. 0. 0. 0. 0. 0. 0. 0. 0. 0. 0. 0. 0. 0. 0.\n",
      "  0. 0. 0. 0. 1. 0.]\n",
      " [0. 0. 0. 0. 0. 0. 0. 0. 0. 0. 0. 0. 0. 0. 0. 0. 0. 0. 0. 0. 0. 0. 0. 0.\n",
      "  0. 0. 0. 0. 0. 1.]\n",
      " [0. 1. 0. 0. 0. 0. 0. 0. 0. 0. 0. 0. 0. 0. 0. 0. 0. 0. 0. 0. 0. 0. 0. 0.\n",
      "  0. 0. 0. 0. 0. 0.]\n",
      " [0. 0. 1. 0. 0. 0. 0. 0. 0. 0. 0. 0. 0. 0. 0. 0. 0. 0. 0. 0. 0. 0. 0. 0.\n",
      "  0. 0. 0. 0. 0. 0.]\n",
      " [0. 0. 0. 1. 0. 0. 0. 0. 0. 0. 0. 0. 0. 0. 0. 0. 0. 0. 0. 0. 0. 0. 0. 0.\n",
      "  0. 0. 0. 0. 0. 0.]\n",
      " [0. 0. 0. 0. 1. 0. 0. 0. 0. 0. 0. 0. 0. 0. 0. 0. 0. 0. 0. 0. 0. 0. 0. 0.\n",
      "  0. 0. 0. 0. 0. 0.]\n",
      " [0. 0. 0. 0. 0. 1. 0. 0. 0. 0. 0. 0. 0. 0. 0. 0. 0. 0. 0. 0. 0. 0. 0. 0.\n",
      "  0. 0. 0. 0. 0. 0.]\n",
      " [0. 0. 0. 0. 0. 0. 1. 0. 0. 0. 0. 0. 0. 0. 0. 0. 0. 0. 0. 0. 0. 0. 0. 0.\n",
      "  0. 0. 0. 0. 0. 0.]\n",
      " [0. 0. 0. 0. 0. 0. 0. 1. 0. 0. 0. 0. 0. 0. 0. 0. 0. 0. 0. 0. 0. 0. 0. 0.\n",
      "  0. 0. 0. 0. 0. 0.]\n",
      " [0. 0. 0. 0. 0. 0. 0. 0. 1. 0. 0. 0. 0. 0. 0. 0. 0. 0. 0. 0. 0. 0. 0. 0.\n",
      "  0. 0. 0. 0. 0. 0.]]\n"
     ]
    }
   ],
   "source": [
    "# Sliding 모델 학습\n",
    "X_sliding, y_sliding = create_xy_sliding(token_list, max_len, vocab_size)"
   ]
  },
  {
   "cell_type": "code",
   "execution_count": 12,
   "metadata": {},
   "outputs": [
    {
     "name": "stdout",
     "output_type": "stream",
     "text": [
      "X shape: (22, 15)\n",
      "y shape: (22, 30)\n",
      "X sample: [ 9 10 11 12 13 14 15 16 17  1  2  3  4  5  6]\n",
      "y sample: [0. 0. 0. 0. 0. 0. 0. 1. 0. 0. 0. 0. 0. 0. 0. 0. 0. 0. 0. 0. 0. 0. 0. 0.\n",
      " 0. 0. 0. 0. 0. 0.]\n"
     ]
    }
   ],
   "source": [
    "print(\"X shape:\", X_sliding.shape)\n",
    "print(\"y shape:\", y_sliding.shape)\n",
    "print(\"X sample:\", X_sliding[0])\n",
    "print(\"y sample:\", y_sliding[0])"
   ]
  },
  {
   "cell_type": "code",
   "execution_count": 13,
   "metadata": {
    "scrolled": true
   },
   "outputs": [
    {
     "data": {
      "image/png": "[encoded data removed]",
      "text/plain": [
       "<Figure size 700x500 with 1 Axes>"
      ]
     },
     "metadata": {},
     "output_type": "display_data"
    }
   ],
   "source": [
    "model_sliding = build_model(X_sliding.shape[1], vocab_size)\n",
    "history_sliding = model_sliding.fit(X_sliding, y_sliding, validation_split=0.2, epochs=200, verbose=0)\n",
    "plot_history(history_sliding,'sliding')"
   ]
  },
  {
   "cell_type": "code",
   "execution_count": 14,
   "metadata": {},
   "outputs": [
    {
     "name": "stdout",
     "output_type": "stream",
     "text": [
      "\n",
      " n-gram sequences:\n",
      " [[ 0  0  0  0  0  0  0  0  0  0  9 10]\n",
      " [ 0  0  0  0  0  0  0  0  0  9 10 11]\n",
      " [ 0  0  0  0  0  0  0  0  9 10 11 12]\n",
      " [ 0  0  0  0  0  0  0  9 10 11 12 13]\n",
      " [ 0  0  0  0  0  0  9 10 11 12 13 14]\n",
      " [ 0  0  0  0  0  9 10 11 12 13 14 15]\n",
      " [ 0  0  0  0  9 10 11 12 13 14 15 16]\n",
      " [ 0  0  0  9 10 11 12 13 14 15 16 17]\n",
      " [ 0  0  0  0  0  0  0  0  0  0  1  2]\n",
      " [ 0  0  0  0  0  0  0  0  0  1  2  3]\n",
      " [ 0  0  0  0  0  0  0  0  1  2  3  4]\n",
      " [ 0  0  0  0  0  0  0  1  2  3  4  5]\n",
      " [ 0  0  0  0  0  0  1  2  3  4  5  6]\n",
      " [ 0  0  0  0  0  1  2  3  4  5  6  7]\n",
      " [ 0  0  0  0  1  2  3  4  5  6  7  8]\n",
      " [ 0  0  0  0  0  0  0  0  0  0 18 19]\n",
      " [ 0  0  0  0  0  0  0  0  0 18 19 20]\n",
      " [ 0  0  0  0  0  0  0  0 18 19 20 21]\n",
      " [ 0  0  0  0  0  0  0 18 19 20 21 22]\n",
      " [ 0  0  0  0  0  0 18 19 20 21 22 23]\n",
      " [ 0  0  0  0  0 18 19 20 21 22 23 24]\n",
      " [ 0  0  0  0 18 19 20 21 22 23 24 25]\n",
      " [ 0  0  0 18 19 20 21 22 23 24 25 26]\n",
      " [ 0  0 18 19 20 21 22 23 24 25 26 27]\n",
      " [ 0 18 19 20 21 22 23 24 25 26 27 28]\n",
      " [18 19 20 21 22 23 24 25 26 27 28 29]\n",
      " [ 0  0  0  0  0  0  0  0  0  0  1  2]\n",
      " [ 0  0  0  0  0  0  0  0  0  1  2  3]\n",
      " [ 0  0  0  0  0  0  0  0  1  2  3  4]\n",
      " [ 0  0  0  0  0  0  0  1  2  3  4  5]\n",
      " [ 0  0  0  0  0  0  1  2  3  4  5  6]\n",
      " [ 0  0  0  0  0  1  2  3  4  5  6  7]\n",
      " [ 0  0  0  0  1  2  3  4  5  6  7  8]]\n",
      "\n",
      "n-gram X:\n",
      " [[ 0  0  0  0  0  0  0  0  0  0  9]\n",
      " [ 0  0  0  0  0  0  0  0  0  9 10]\n",
      " [ 0  0  0  0  0  0  0  0  9 10 11]\n",
      " [ 0  0  0  0  0  0  0  9 10 11 12]\n",
      " [ 0  0  0  0  0  0  9 10 11 12 13]\n",
      " [ 0  0  0  0  0  9 10 11 12 13 14]\n",
      " [ 0  0  0  0  9 10 11 12 13 14 15]\n",
      " [ 0  0  0  9 10 11 12 13 14 15 16]\n",
      " [ 0  0  0  0  0  0  0  0  0  0  1]\n",
      " [ 0  0  0  0  0  0  0  0  0  1  2]\n",
      " [ 0  0  0  0  0  0  0  0  1  2  3]\n",
      " [ 0  0  0  0  0  0  0  1  2  3  4]\n",
      " [ 0  0  0  0  0  0  1  2  3  4  5]\n",
      " [ 0  0  0  0  0  1  2  3  4  5  6]\n",
      " [ 0  0  0  0  1  2  3  4  5  6  7]\n",
      " [ 0  0  0  0  0  0  0  0  0  0 18]\n",
      " [ 0  0  0  0  0  0  0  0  0 18 19]\n",
      " [ 0  0  0  0  0  0  0  0 18 19 20]\n",
      " [ 0  0  0  0  0  0  0 18 19 20 21]\n",
      " [ 0  0  0  0  0  0 18 19 20 21 22]\n",
      " [ 0  0  0  0  0 18 19 20 21 22 23]\n",
      " [ 0  0  0  0 18 19 20 21 22 23 24]\n",
      " [ 0  0  0 18 19 20 21 22 23 24 25]\n",
      " [ 0  0 18 19 20 21 22 23 24 25 26]\n",
      " [ 0 18 19 20 21 22 23 24 25 26 27]\n",
      " [18 19 20 21 22 23 24 25 26 27 28]\n",
      " [ 0  0  0  0  0  0  0  0  0  0  1]\n",
      " [ 0  0  0  0  0  0  0  0  0  1  2]\n",
      " [ 0  0  0  0  0  0  0  0  1  2  3]\n",
      " [ 0  0  0  0  0  0  0  1  2  3  4]\n",
      " [ 0  0  0  0  0  0  1  2  3  4  5]\n",
      " [ 0  0  0  0  0  1  2  3  4  5  6]\n",
      " [ 0  0  0  0  1  2  3  4  5  6  7]]\n",
      "\n",
      "n-gram y:\n",
      " [[0. 0. 0. 0. 0. 0. 0. 0. 0. 0. 1. 0. 0. 0. 0. 0. 0. 0. 0. 0. 0. 0. 0. 0.\n",
      "  0. 0. 0. 0. 0. 0.]\n",
      " [0. 0. 0. 0. 0. 0. 0. 0. 0. 0. 0. 1. 0. 0. 0. 0. 0. 0. 0. 0. 0. 0. 0. 0.\n",
      "  0. 0. 0. 0. 0. 0.]\n",
      " [0. 0. 0. 0. 0. 0. 0. 0. 0. 0. 0. 0. 1. 0. 0. 0. 0. 0. 0. 0. 0. 0. 0. 0.\n",
      "  0. 0. 0. 0. 0. 0.]\n",
      " [0. 0. 0. 0. 0. 0. 0. 0. 0. 0. 0. 0. 0. 1. 0. 0. 0. 0. 0. 0. 0. 0. 0. 0.\n",
      "  0. 0. 0. 0. 0. 0.]\n",
      " [0. 0. 0. 0. 0. 0. 0. 0. 0. 0. 0. 0. 0. 0. 1. 0. 0. 0. 0. 0. 0. 0. 0. 0.\n",
      "  0. 0. 0. 0. 0. 0.]\n",
      " [0. 0. 0. 0. 0. 0. 0. 0. 0. 0. 0. 0. 0. 0. 0. 1. 0. 0. 0. 0. 0. 0. 0. 0.\n",
      "  0. 0. 0. 0. 0. 0.]\n",
      " [0. 0. 0. 0. 0. 0. 0. 0. 0. 0. 0. 0. 0. 0. 0. 0. 1. 0. 0. 0. 0. 0. 0. 0.\n",
      "  0. 0. 0. 0. 0. 0.]\n",
      " [0. 0. 0. 0. 0. 0. 0. 0. 0. 0. 0. 0. 0. 0. 0. 0. 0. 1. 0. 0. 0. 0. 0. 0.\n",
      "  0. 0. 0. 0. 0. 0.]\n",
      " [0. 0. 1. 0. 0. 0. 0. 0. 0. 0. 0. 0. 0. 0. 0. 0. 0. 0. 0. 0. 0. 0. 0. 0.\n",
      "  0. 0. 0. 0. 0. 0.]\n",
      " [0. 0. 0. 1. 0. 0. 0. 0. 0. 0. 0. 0. 0. 0. 0. 0. 0. 0. 0. 0. 0. 0. 0. 0.\n",
      "  0. 0. 0. 0. 0. 0.]\n",
      " [0. 0. 0. 0. 1. 0. 0. 0. 0. 0. 0. 0. 0. 0. 0. 0. 0. 0. 0. 0. 0. 0. 0. 0.\n",
      "  0. 0. 0. 0. 0. 0.]\n",
      " [0. 0. 0. 0. 0. 1. 0. 0. 0. 0. 0. 0. 0. 0. 0. 0. 0. 0. 0. 0. 0. 0. 0. 0.\n",
      "  0. 0. 0. 0. 0. 0.]\n",
      " [0. 0. 0. 0. 0. 0. 1. 0. 0. 0. 0. 0. 0. 0. 0. 0. 0. 0. 0. 0. 0. 0. 0. 0.\n",
      "  0. 0. 0. 0. 0. 0.]\n",
      " [0. 0. 0. 0. 0. 0. 0. 1. 0. 0. 0. 0. 0. 0. 0. 0. 0. 0. 0. 0. 0. 0. 0. 0.\n",
      "  0. 0. 0. 0. 0. 0.]\n",
      " [0. 0. 0. 0. 0. 0. 0. 0. 1. 0. 0. 0. 0. 0. 0. 0. 0. 0. 0. 0. 0. 0. 0. 0.\n",
      "  0. 0. 0. 0. 0. 0.]\n",
      " [0. 0. 0. 0. 0. 0. 0. 0. 0. 0. 0. 0. 0. 0. 0. 0. 0. 0. 0. 1. 0. 0. 0. 0.\n",
      "  0. 0. 0. 0. 0. 0.]\n",
      " [0. 0. 0. 0. 0. 0. 0. 0. 0. 0. 0. 0. 0. 0. 0. 0. 0. 0. 0. 0. 1. 0. 0. 0.\n",
      "  0. 0. 0. 0. 0. 0.]\n",
      " [0. 0. 0. 0. 0. 0. 0. 0. 0. 0. 0. 0. 0. 0. 0. 0. 0. 0. 0. 0. 0. 1. 0. 0.\n",
      "  0. 0. 0. 0. 0. 0.]\n",
      " [0. 0. 0. 0. 0. 0. 0. 0. 0. 0. 0. 0. 0. 0. 0. 0. 0. 0. 0. 0. 0. 0. 1. 0.\n",
      "  0. 0. 0. 0. 0. 0.]\n",
      " [0. 0. 0. 0. 0. 0. 0. 0. 0. 0. 0. 0. 0. 0. 0. 0. 0. 0. 0. 0. 0. 0. 0. 1.\n",
      "  0. 0. 0. 0. 0. 0.]\n",
      " [0. 0. 0. 0. 0. 0. 0. 0. 0. 0. 0. 0. 0. 0. 0. 0. 0. 0. 0. 0. 0. 0. 0. 0.\n",
      "  1. 0. 0. 0. 0. 0.]\n",
      " [0. 0. 0. 0. 0. 0. 0. 0. 0. 0. 0. 0. 0. 0. 0. 0. 0. 0. 0. 0. 0. 0. 0. 0.\n",
      "  0. 1. 0. 0. 0. 0.]\n",
      " [0. 0. 0. 0. 0. 0. 0. 0. 0. 0. 0. 0. 0. 0. 0. 0. 0. 0. 0. 0. 0. 0. 0. 0.\n",
      "  0. 0. 1. 0. 0. 0.]\n",
      " [0. 0. 0. 0. 0. 0. 0. 0. 0. 0. 0. 0. 0. 0. 0. 0. 0. 0. 0. 0. 0. 0. 0. 0.\n",
      "  0. 0. 0. 1. 0. 0.]\n",
      " [0. 0. 0. 0. 0. 0. 0. 0. 0. 0. 0. 0. 0. 0. 0. 0. 0. 0. 0. 0. 0. 0. 0. 0.\n",
      "  0. 0. 0. 0. 1. 0.]\n",
      " [0. 0. 0. 0. 0. 0. 0. 0. 0. 0. 0. 0. 0. 0. 0. 0. 0. 0. 0. 0. 0. 0. 0. 0.\n",
      "  0. 0. 0. 0. 0. 1.]\n",
      " [0. 0. 1. 0. 0. 0. 0. 0. 0. 0. 0. 0. 0. 0. 0. 0. 0. 0. 0. 0. 0. 0. 0. 0.\n",
      "  0. 0. 0. 0. 0. 0.]\n",
      " [0. 0. 0. 1. 0. 0. 0. 0. 0. 0. 0. 0. 0. 0. 0. 0. 0. 0. 0. 0. 0. 0. 0. 0.\n",
      "  0. 0. 0. 0. 0. 0.]\n",
      " [0. 0. 0. 0. 1. 0. 0. 0. 0. 0. 0. 0. 0. 0. 0. 0. 0. 0. 0. 0. 0. 0. 0. 0.\n",
      "  0. 0. 0. 0. 0. 0.]\n",
      " [0. 0. 0. 0. 0. 1. 0. 0. 0. 0. 0. 0. 0. 0. 0. 0. 0. 0. 0. 0. 0. 0. 0. 0.\n",
      "  0. 0. 0. 0. 0. 0.]\n",
      " [0. 0. 0. 0. 0. 0. 1. 0. 0. 0. 0. 0. 0. 0. 0. 0. 0. 0. 0. 0. 0. 0. 0. 0.\n",
      "  0. 0. 0. 0. 0. 0.]\n",
      " [0. 0. 0. 0. 0. 0. 0. 1. 0. 0. 0. 0. 0. 0. 0. 0. 0. 0. 0. 0. 0. 0. 0. 0.\n",
      "  0. 0. 0. 0. 0. 0.]\n",
      " [0. 0. 0. 0. 0. 0. 0. 0. 1. 0. 0. 0. 0. 0. 0. 0. 0. 0. 0. 0. 0. 0. 0. 0.\n",
      "  0. 0. 0. 0. 0. 0.]]\n"
     ]
    }
   ],
   "source": [
    "# Ngram 모델 학습\n",
    "X_ngram, y_ngram = create_xy_ngram(text, tokenizer, vocab_size)"
   ]
  },
  {
   "cell_type": "code",
   "execution_count": 15,
   "metadata": {},
   "outputs": [
    {
     "name": "stdout",
     "output_type": "stream",
     "text": [
      "X shape: (33, 11)\n",
      "y shape: (33, 30)\n",
      "X sample: [0 0 0 0 0 0 0 0 0 0 9]\n",
      "y sample: [0. 0. 0. 0. 0. 0. 0. 0. 0. 0. 1. 0. 0. 0. 0. 0. 0. 0. 0. 0. 0. 0. 0. 0.\n",
      " 0. 0. 0. 0. 0. 0.]\n"
     ]
    }
   ],
   "source": [
    "print(\"X shape:\", X_ngram.shape)\n",
    "print(\"y shape:\", y_ngram.shape)\n",
    "print(\"X sample:\", X_ngram[0])\n",
    "print(\"y sample:\", y_ngram[0])"
   ]
  },
  {
   "cell_type": "code",
   "execution_count": 16,
   "metadata": {},
   "outputs": [
    {
     "data": {
      "image/png": "[encoded data removed]",
      "text/plain": [
       "<Figure size 700x500 with 1 Axes>"
      ]
     },
     "metadata": {},
     "output_type": "display_data"
    }
   ],
   "source": [
    "model_ngram = build_model(X_ngram.shape[1], vocab_size)\n",
    "history_ngram = model_ngram.fit(X_ngram, y_ngram, validation_split=0.2, epochs=200, verbose=0)\n",
    "plot_history(history_ngram ,'ngram')"
   ]
  },
  {
   "cell_type": "code",
   "execution_count": 17,
   "metadata": {},
   "outputs": [
    {
     "name": "stdout",
     "output_type": "stream",
     "text": [
      "Sliding Loss: 0.2385\n",
      "Ngram Loss: 0.2125\n"
     ]
    }
   ],
   "source": [
    "# 결과 비교 출력\n",
    "print(f\"Sliding Loss: {history_sliding.history['loss'][-1]:.4f}\")\n",
    "print(f\"Ngram Loss: {history_ngram.history['loss'][-1]:.4f}\")"
   ]
  },
  {
   "cell_type": "code",
   "execution_count": null,
   "metadata": {},
   "outputs": [],
   "source": []
  }
 ],
 "metadata": {
  "accelerator": "GPU",
  "colab": {
   "machine_shape": "hm",
   "provenance": []
  },
  "kernelspec": {
   "display_name": "tf3",
   "language": "python",
   "name": "tf3"
  },
  "language_info": {
   "codemirror_mode": {
    "name": "ipython",
    "version": 3
   },
   "file_extension": ".py",
   "mimetype": "text/x-python",
   "name": "python",
   "nbconvert_exporter": "python",
   "pygments_lexer": "ipython3",
   "version": "3.9.23"
  }
 },
 "nbformat": 4,
 "nbformat_minor": 4
}
