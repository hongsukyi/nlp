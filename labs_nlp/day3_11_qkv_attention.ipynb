{
 "cells": [
  {
   "cell_type": "code",
   "execution_count": 16,
   "id": "78f8b82e-f609-4238-b4e0-a0372cc1126a",
   "metadata": {},
   "outputs": [
    {
     "name": "stdout",
     "output_type": "stream",
     "text": [
      "\n",
      "--- Scaled Dot-Product Attention 예제 ---\n",
      "\n",
      "tf.eye(4,5): tf.Tensor(\n",
      "[[1. 0. 0. 0. 0.]\n",
      " [0. 1. 0. 0. 0.]\n",
      " [0. 0. 1. 0. 0.]\n",
      " [0. 0. 0. 1. 0.]], shape=(4, 5), dtype=float32)\n",
      "\n",
      "tf.random:\n",
      "0.00  -0.07  -0.01  -0.03  -0.14\n",
      "0.07  0.17  0.03  0.00  0.06\n",
      "0.24  0.05  0.04  -0.02  -0.01\n",
      "-0.15  -0.01  -0.21  -0.04  0.17\n",
      "\n",
      "X:\n",
      "1.05  0.05  -0.08  0.16  0.08\n",
      "-0.04  0.89  -0.03  -0.10  0.03\n",
      "-0.20  0.16  1.20  -0.20  -0.12\n",
      "-0.00  -0.02  0.14  0.99  -0.10\n",
      "\n",
      "W_q:\n",
      "-0.03  0.45\n",
      "1.61  1.63\n",
      "0.93  -0.32\n",
      "-1.02  0.15\n",
      "0.31  -0.09\n",
      "\n",
      "Q:\n",
      "-0.16  0.60\n",
      "1.52  1.43\n",
      "1.56  -0.23\n",
      "-0.93  0.07\n",
      "\n",
      "K:\n",
      "2.07  -0.63\n",
      "-1.69  0.28\n",
      "0.55  0.24\n",
      "2.55  0.03\n",
      "\n",
      "V:\n",
      "0.10  -0.36\n",
      "1.51  0.21\n",
      "0.11  -2.72\n",
      "0.79  -0.64\n"
     ]
    }
   ],
   "source": [
    "# 트랜스포머 모델 구성 예시 (Keras)\n",
    "import tensorflow as tf\n",
    "from tensorflow.keras.layers import Input, Dense, Dropout, LayerNormalization, Embedding\n",
    "from tensorflow.keras.models import Model\n",
    "from tensorflow.keras.layers import MultiHeadAttention\n",
    "import numpy as np\n",
    "import matplotlib.pyplot as plt\n",
    "import seaborn as sns\n",
    "\n",
    "print(\"\\n--- Scaled Dot-Product Attention 예제 ---\")\n",
    "tokens = [\"I\", \"am\", \"a\", \"student\"]\n",
    "\n",
    "print(\"\\ntf.eye(4,5):\", tf.eye(4,5))\n",
    "\n",
    "print(\"\\ntf.random:\")    \n",
    "rand_tensor = tf.random.normal((4, 5), stddev=0.1)\n",
    "rand_array = rand_tensor.numpy()\n",
    "for row in rand_array:\n",
    "    print(\"  \".join([f\"{x:.2f}\" for x in row]))\n",
    "\n",
    "print(\"\\nX:\")    \n",
    "X = tf.Variable(tf.eye(4, 5) + tf.random.normal((4, 5), stddev=0.1))  \n",
    "X_numpy = X.numpy()  # Tensor → numpy 배열로 변환\n",
    "for row in X_numpy:\n",
    "    print(\"  \".join([f\"{val:.2f}\" for val in row]))\n",
    "\n",
    "\n",
    "# 가중치 행렬 초기화: [5, 2]\n",
    "W_q = tf.Variable(tf.random.normal((5, 2)))\n",
    "W_k = tf.Variable(tf.random.normal((5, 2)))\n",
    "W_v = tf.Variable(tf.random.normal((5, 2)))\n",
    "\n",
    "print(\"\\nW_q:\")\n",
    "Wq_numpy = W_q.numpy()  # Tensor → numpy 배열로 변환\n",
    "for row in Wq_numpy:\n",
    "    print(\"  \".join([f\"{val:.2f}\" for val in row]))\n",
    "    \n",
    "# Q, K, V 계산\n",
    "Q = tf.matmul(X, W_q)  # [4, 2]\n",
    "K = tf.matmul(X, W_k)  # [4, 2]\n",
    "V = tf.matmul(X, W_v)  # [4, 2]\n",
    "\n",
    "print(\"\\nQ:\")\n",
    "Q_numpy = Q.numpy()  # Tensor → numpy 배열로 변환\n",
    "for row in Q_numpy:\n",
    "    print(\"  \".join([f\"{val:.2f}\" for val in row]))\n",
    "\n",
    "print(\"\\nK:\")\n",
    "K_numpy = K.numpy()  # Tensor → numpy 배열로 변환\n",
    "for row in K_numpy:\n",
    "    print(\"  \".join([f\"{val:.2f}\" for val in row]))\n",
    "\n",
    "print(\"\\nV:\")\n",
    "V_numpy = V.numpy()  # Tensor → numpy 배열로 변환\n",
    "for row in V_numpy:\n",
    "    print(\"  \".join([f\"{val:.2f}\" for val in row]))"
   ]
  },
  {
   "cell_type": "code",
   "execution_count": 26,
   "id": "185e4c07-7b42-4bb6-8613-c45173ace559",
   "metadata": {},
   "outputs": [
    {
     "name": "stdout",
     "output_type": "stream",
     "text": [
      "tf.Tensor([4 2], shape=(2,), dtype=int32)\n",
      "tf.Tensor(2, shape=(), dtype=int32)\n",
      "tf.Tensor(2.0, shape=(), dtype=float32)\n",
      "\n",
      "sqrt(d_k): tf.Tensor(1.4142135, shape=(), dtype=float32)\n",
      "\n",
      "QK^T: tf.Tensor(\n",
      "[[-0.7074295   0.43747765  0.05226814 -0.3927617 ]\n",
      " [ 2.2608945  -2.1822405   1.1804215   3.9169796 ]\n",
      " [ 3.3740754  -2.7001061   0.80511737  3.9561172 ]\n",
      " [-1.9822246   1.601      -0.4982981  -2.374148  ]], shape=(4, 4), dtype=float32)\n",
      "\n",
      "QK^T/sqrt(d_k): tf.Tensor(\n",
      "[[-0.5002282   0.30934343  0.03695916 -0.27772447]\n",
      " [ 1.5986938  -1.5430771   0.834684    2.769723  ]\n",
      " [ 2.3858316  -1.9092634   0.569304    2.7973974 ]\n",
      " [-1.4016445   1.1320779  -0.35234997 -1.6787761 ]], shape=(4, 4), dtype=float32)\n"
     ]
    }
   ],
   "source": [
    "# Attention score 계산\n",
    "score = tf.matmul(Q, K, transpose_b=True) / tf.math.sqrt(tf.cast(tf.shape(K)[-1], tf.float32))\n",
    "\n",
    "print(tf.shape(K))               \n",
    "print(tf.shape(K)[-1])          \n",
    "print(tf.cast(tf.shape(K)[-1], tf.float32)) \n",
    "print(\"\\nsqrt(d_k):\",tf.math.sqrt(tf.cast(tf.shape(K)[-1], tf.float32)))\n",
    "\n",
    "print(\"\\nQK^T:\",tf.matmul(Q, K, transpose_b=True))\n",
    "print(\"\\nQK^T/sqrt(d_k):\",score)"
   ]
  },
  {
   "cell_type": "code",
   "execution_count": 28,
   "id": "3ea5fde5-2bc6-4ae6-bd68-559e9fc19c44",
   "metadata": {},
   "outputs": [
    {
     "name": "stdout",
     "output_type": "stream",
     "text": [
      "\n",
      "Softmax(QK^T): tf.Tensor(\n",
      "[[0.16 0.36 0.28 0.2 ]\n",
      " [0.21 0.01 0.1  0.68]\n",
      " [0.37 0.01 0.06 0.56]\n",
      " [0.06 0.73 0.17 0.04]], shape=(4, 4), dtype=float32)\n",
      "\n",
      " Attention × V: tf.Tensor(\n",
      "[[ 0.75 -0.86]\n",
      " [ 0.59 -0.78]\n",
      " [ 0.5  -0.66]\n",
      " [ 1.16 -0.35]], shape=(4, 2), dtype=float32)\n"
     ]
    }
   ],
   "source": [
    "weights = tf.nn.softmax(score, axis=-1)\n",
    "print(\"\\nSoftmax(QK^T):\", tf.round(weights * 100) / 100)\n",
    "\n",
    "output = tf.matmul(weights, V)  \n",
    "print(\"\\n Attention × V:\", tf.round(output * 100) / 100)"
   ]
  },
  {
   "cell_type": "code",
   "execution_count": 31,
   "id": "fbd51250-90d4-4da7-bd00-a553ec85b499",
   "metadata": {},
   "outputs": [
    {
     "data": {
      "image/png": "[encoded data removed]",
      "text/plain": [
       "<Figure size 640x480 with 2 Axes>"
      ]
     },
     "metadata": {},
     "output_type": "display_data"
    },
    {
     "name": "stdout",
     "output_type": "stream",
     "text": [
      "\n",
      "각 Query 단어가 어떤 Key 단어에 얼마나 주의를 기울였는지를 보인것\n"
     ]
    }
   ],
   "source": [
    "# Heatmap 시각화\n",
    "sns.heatmap(weights.numpy(), annot=True, fmt=\".2f\", cmap='Blues',\n",
    "            xticklabels=tokens, yticklabels=tokens)\n",
    "\n",
    "plt.title(\"Scaled Dot-Product Attention Weights\")\n",
    "plt.xlabel(\"Key (K)\")\n",
    "plt.ylabel(\"Query (Q)\")\n",
    "plt.tight_layout()\n",
    "plt.show()\n",
    "\n",
    "print(\"\\n각 Query 단어가 어떤 Key 단어에 얼마나 주의를 기울였는지를 보인것\")"
   ]
  },
  {
   "cell_type": "code",
   "execution_count": null,
   "id": "275b97ea-467a-49b6-871b-503f270763c1",
   "metadata": {},
   "outputs": [],
   "source": []
  }
 ],
 "metadata": {
  "kernelspec": {
   "display_name": "tf_qiskit",
   "language": "python",
   "name": "tf"
  },
  "language_info": {
   "codemirror_mode": {
    "name": "ipython",
    "version": 3
   },
   "file_extension": ".py",
   "mimetype": "text/x-python",
   "name": "python",
   "nbconvert_exporter": "python",
   "pygments_lexer": "ipython3",
   "version": "3.10.13"
  }
 },
 "nbformat": 4,
 "nbformat_minor": 5
}
