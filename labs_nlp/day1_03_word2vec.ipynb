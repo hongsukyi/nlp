{
 "cells": [
  {
   "cell_type": "markdown",
   "metadata": {},
   "source": [
    "## 실습: word2vec 실습 \n",
    "NSMC 데이터세에서 word2vec 의미를 이해한다\n",
    "- skip-gram\n",
    "- cbow"
   ]
  },
  {
   "cell_type": "code",
   "execution_count": 1,
   "metadata": {
    "id": "8q_hWBnkELPE"
   },
   "outputs": [],
   "source": [
    "import pandas as pd\n",
    "import matplotlib.pyplot as plt\n",
    "#!pip install koreanize-matplotlib\n",
    "#!pip install konlpy\n",
    "import koreanize_matplotlib\n",
    "from collections import Counter\n",
    "from konlpy.tag import Okt\n",
    "\n",
    "from gensim.models import Word2Vec\n",
    "from sklearn.manifold import TSNE\n",
    "import numpy as np\n",
    "import time"
   ]
  },
  {
   "cell_type": "code",
   "execution_count": 2,
   "metadata": {
    "id": "8q_hWBnkELPE"
   },
   "outputs": [
    {
     "data": {
      "text/html": [
       "<div>\n",
       "<style scoped>\n",
       "    .dataframe tbody tr th:only-of-type {\n",
       "        vertical-align: middle;\n",
       "    }\n",
       "\n",
       "    .dataframe tbody tr th {\n",
       "        vertical-align: top;\n",
       "    }\n",
       "\n",
       "    .dataframe thead th {\n",
       "        text-align: right;\n",
       "    }\n",
       "</style>\n",
       "<table border=\"1\" class=\"dataframe\">\n",
       "  <thead>\n",
       "    <tr style=\"text-align: right;\">\n",
       "      <th></th>\n",
       "      <th>id</th>\n",
       "      <th>document</th>\n",
       "      <th>label</th>\n",
       "      <th>word_count</th>\n",
       "    </tr>\n",
       "  </thead>\n",
       "  <tbody>\n",
       "    <tr>\n",
       "      <th>0</th>\n",
       "      <td>6928782</td>\n",
       "      <td>민좆 파쇼 쌕기들이 종교랑 같이 까는 수준 좀 보솤ㅋㅋㅋㅋㅋ 암 그라제! 우덜이 미...</td>\n",
       "      <td>0</td>\n",
       "      <td>41</td>\n",
       "    </tr>\n",
       "    <tr>\n",
       "      <th>1</th>\n",
       "      <td>9614878</td>\n",
       "      <td>나 진짜 웬만해선 다 재밌게 보는 편인데 진짜 보는 내내 언제 끝나나 개답답했다. ...</td>\n",
       "      <td>0</td>\n",
       "      <td>40</td>\n",
       "    </tr>\n",
       "    <tr>\n",
       "      <th>2</th>\n",
       "      <td>8330404</td>\n",
       "      <td>정유미 정준영 부부&amp;막둥이 부부 땜 에 봐요 윤한부부 나오면 바로 다른 채널로 사상...</td>\n",
       "      <td>0</td>\n",
       "      <td>40</td>\n",
       "    </tr>\n",
       "    <tr>\n",
       "      <th>3</th>\n",
       "      <td>8153927</td>\n",
       "      <td>황당한 소재 및 전개. 쓰레기같은 스토리. 그 수준을 초월한 CG. 정말 어느 것 ...</td>\n",
       "      <td>0</td>\n",
       "      <td>40</td>\n",
       "    </tr>\n",
       "    <tr>\n",
       "      <th>4</th>\n",
       "      <td>8525988</td>\n",
       "      <td>EQ 측정용 영화임. 별 2개 - 당신은 마음이 아직 여린 편. 별 3개 - 남에게...</td>\n",
       "      <td>0</td>\n",
       "      <td>40</td>\n",
       "    </tr>\n",
       "  </tbody>\n",
       "</table>\n",
       "</div>"
      ],
      "text/plain": [
       "        id                                           document  label  \\\n",
       "0  6928782  민좆 파쇼 쌕기들이 종교랑 같이 까는 수준 좀 보솤ㅋㅋㅋㅋㅋ 암 그라제! 우덜이 미...      0   \n",
       "1  9614878  나 진짜 웬만해선 다 재밌게 보는 편인데 진짜 보는 내내 언제 끝나나 개답답했다. ...      0   \n",
       "2  8330404  정유미 정준영 부부&막둥이 부부 땜 에 봐요 윤한부부 나오면 바로 다른 채널로 사상...      0   \n",
       "3  8153927  황당한 소재 및 전개. 쓰레기같은 스토리. 그 수준을 초월한 CG. 정말 어느 것 ...      0   \n",
       "4  8525988  EQ 측정용 영화임. 별 2개 - 당신은 마음이 아직 여린 편. 별 3개 - 남에게...      0   \n",
       "\n",
       "   word_count  \n",
       "0          41  \n",
       "1          40  \n",
       "2          40  \n",
       "3          40  \n",
       "4          40  "
      ]
     },
     "execution_count": 2,
     "metadata": {},
     "output_type": "execute_result"
    }
   ],
   "source": [
    "df=pd.read_csv(\"https://raw.githubusercontent.com/hongsukyi/Lectures/main/data/nsmc.txt\", sep=\"\\t\")\n",
    "\n",
    "df.head()\n",
    "# 단어 수 기준으로 정렬\n",
    "df['word_count'] = df['document'].apply(lambda x: len(str(x).split()))\n",
    "df_sorted = df.sort_values(by='word_count', ascending=False).reset_index(drop=True)\n",
    "df_sorted.head()"
   ]
  },
  {
   "cell_type": "code",
   "execution_count": 3,
   "metadata": {
    "id": "8q_hWBnkELPE"
   },
   "outputs": [
    {
     "data": {
      "text/html": [
       "<div>\n",
       "<style scoped>\n",
       "    .dataframe tbody tr th:only-of-type {\n",
       "        vertical-align: middle;\n",
       "    }\n",
       "\n",
       "    .dataframe tbody tr th {\n",
       "        vertical-align: top;\n",
       "    }\n",
       "\n",
       "    .dataframe thead th {\n",
       "        text-align: right;\n",
       "    }\n",
       "</style>\n",
       "<table border=\"1\" class=\"dataframe\">\n",
       "  <thead>\n",
       "    <tr style=\"text-align: right;\">\n",
       "      <th></th>\n",
       "      <th>id</th>\n",
       "      <th>document</th>\n",
       "      <th>label</th>\n",
       "      <th>word_count</th>\n",
       "    </tr>\n",
       "  </thead>\n",
       "  <tbody>\n",
       "    <tr>\n",
       "      <th>0</th>\n",
       "      <td>6928782</td>\n",
       "      <td>민좆 파쇼 쌕기들이 종교랑 같이 까는 수준 좀 보솤ㅋㅋㅋㅋㅋ 암 그라제! 우덜이 미...</td>\n",
       "      <td>0</td>\n",
       "      <td>41</td>\n",
       "    </tr>\n",
       "    <tr>\n",
       "      <th>1</th>\n",
       "      <td>9614878</td>\n",
       "      <td>나 진짜 웬만해선 다 재밌게 보는 편인데 진짜 보는 내내 언제 끝나나 개답답했다. ...</td>\n",
       "      <td>0</td>\n",
       "      <td>40</td>\n",
       "    </tr>\n",
       "    <tr>\n",
       "      <th>2</th>\n",
       "      <td>8330404</td>\n",
       "      <td>정유미 정준영 부부&amp;막둥이 부부 땜 에 봐요 윤한부부 나오면 바로 다른 채널로 사상...</td>\n",
       "      <td>0</td>\n",
       "      <td>40</td>\n",
       "    </tr>\n",
       "    <tr>\n",
       "      <th>3</th>\n",
       "      <td>8153927</td>\n",
       "      <td>황당한 소재 및 전개. 쓰레기같은 스토리. 그 수준을 초월한 CG. 정말 어느 것 ...</td>\n",
       "      <td>0</td>\n",
       "      <td>40</td>\n",
       "    </tr>\n",
       "    <tr>\n",
       "      <th>4</th>\n",
       "      <td>8525988</td>\n",
       "      <td>EQ 측정용 영화임. 별 2개 - 당신은 마음이 아직 여린 편. 별 3개 - 남에게...</td>\n",
       "      <td>0</td>\n",
       "      <td>40</td>\n",
       "    </tr>\n",
       "  </tbody>\n",
       "</table>\n",
       "</div>"
      ],
      "text/plain": [
       "        id                                           document  label  \\\n",
       "0  6928782  민좆 파쇼 쌕기들이 종교랑 같이 까는 수준 좀 보솤ㅋㅋㅋㅋㅋ 암 그라제! 우덜이 미...      0   \n",
       "1  9614878  나 진짜 웬만해선 다 재밌게 보는 편인데 진짜 보는 내내 언제 끝나나 개답답했다. ...      0   \n",
       "2  8330404  정유미 정준영 부부&막둥이 부부 땜 에 봐요 윤한부부 나오면 바로 다른 채널로 사상...      0   \n",
       "3  8153927  황당한 소재 및 전개. 쓰레기같은 스토리. 그 수준을 초월한 CG. 정말 어느 것 ...      0   \n",
       "4  8525988  EQ 측정용 영화임. 별 2개 - 당신은 마음이 아직 여린 편. 별 3개 - 남에게...      0   \n",
       "\n",
       "   word_count  \n",
       "0          41  \n",
       "1          40  \n",
       "2          40  \n",
       "3          40  \n",
       "4          40  "
      ]
     },
     "execution_count": 3,
     "metadata": {},
     "output_type": "execute_result"
    }
   ],
   "source": [
    "df=df_sorted[:2000].copy()\n",
    "df.head()"
   ]
  },
  {
   "cell_type": "code",
   "execution_count": 4,
   "metadata": {
    "id": "8q_hWBnkELPE"
   },
   "outputs": [
    {
     "name": "stdout",
     "output_type": "stream",
     "text": [
      "결측치 처리 이후: 2000\n",
      "중복 제거 이후: 1998\n",
      "한글 아닌 문자 제거 이후: 1998\n",
      "리뷰 길이가 짧은 것 제거 : 1998\n"
     ]
    }
   ],
   "source": [
    "df.replace(\"\", float(\"NaN\"), inplace=True)\n",
    "df = df.dropna().reset_index(drop=True)\n",
    "print('결측치 처리 이후:',len(df))\n",
    "\n",
    "df = df.drop_duplicates(['document']).reset_index(drop=True)\n",
    "print('중복 제거 이후:',len(df))\n",
    "\n",
    "df['document'] = df['document'].str.replace(r\"[^ㄱ-ㅎㅏ-ㅣ가-힣 ]\", \"\", regex=True)\n",
    "print('한글 아닌 문자 제거 이후:',len(df))\n",
    "\n",
    "df['document'] = df['document'].apply(lambda x: ' '.join([token for token in x.split() if len(token) > 2]))\n",
    "print('리뷰 길이가 짧은 것 제거 :',len(df))"
   ]
  },
  {
   "cell_type": "code",
   "execution_count": 5,
   "metadata": {},
   "outputs": [
    {
     "data": {
      "text/html": [
       "<div>\n",
       "<style scoped>\n",
       "    .dataframe tbody tr th:only-of-type {\n",
       "        vertical-align: middle;\n",
       "    }\n",
       "\n",
       "    .dataframe tbody tr th {\n",
       "        vertical-align: top;\n",
       "    }\n",
       "\n",
       "    .dataframe thead th {\n",
       "        text-align: right;\n",
       "    }\n",
       "</style>\n",
       "<table border=\"1\" class=\"dataframe\">\n",
       "  <thead>\n",
       "    <tr style=\"text-align: right;\">\n",
       "      <th></th>\n",
       "      <th>id</th>\n",
       "      <th>document</th>\n",
       "      <th>label</th>\n",
       "      <th>word_count</th>\n",
       "    </tr>\n",
       "  </thead>\n",
       "  <tbody>\n",
       "    <tr>\n",
       "      <th>0</th>\n",
       "      <td>6928782</td>\n",
       "      <td>쌕기들이 종교랑 보솤ㅋㅋㅋㅋㅋ 그라제 우덜이 미군이 써보지도 완전히 전쟁도 있었당께...</td>\n",
       "      <td>0</td>\n",
       "      <td>41</td>\n",
       "    </tr>\n",
       "    <tr>\n",
       "      <th>1</th>\n",
       "      <td>9614878</td>\n",
       "      <td>웬만해선 재밌게 편인데 끝나나 개답답했다 그래도 지나면 재밌겠지 했는데 시나리오가 ...</td>\n",
       "      <td>0</td>\n",
       "      <td>40</td>\n",
       "    </tr>\n",
       "    <tr>\n",
       "      <th>2</th>\n",
       "      <td>8330404</td>\n",
       "      <td>정유미 정준영 부부막둥이 윤한부부 나오면 채널로 최초로 부부가 재미없음 막둥이 윤한...</td>\n",
       "      <td>0</td>\n",
       "      <td>40</td>\n",
       "    </tr>\n",
       "    <tr>\n",
       "      <th>3</th>\n",
       "      <td>8153927</td>\n",
       "      <td>황당한 쓰레기같은 스토리 수준을 초월한 칭찬해 차라리 디워는 나와서 신기하기라도 도...</td>\n",
       "      <td>0</td>\n",
       "      <td>40</td>\n",
       "    </tr>\n",
       "    <tr>\n",
       "      <th>4</th>\n",
       "      <td>8525988</td>\n",
       "      <td>측정용 영화임 당신은 마음이 남에게 상처를 못하는 당신은 인문학예술은 당신의 분야가...</td>\n",
       "      <td>0</td>\n",
       "      <td>40</td>\n",
       "    </tr>\n",
       "  </tbody>\n",
       "</table>\n",
       "</div>"
      ],
      "text/plain": [
       "        id                                           document  label  \\\n",
       "0  6928782  쌕기들이 종교랑 보솤ㅋㅋㅋㅋㅋ 그라제 우덜이 미군이 써보지도 완전히 전쟁도 있었당께...      0   \n",
       "1  9614878  웬만해선 재밌게 편인데 끝나나 개답답했다 그래도 지나면 재밌겠지 했는데 시나리오가 ...      0   \n",
       "2  8330404  정유미 정준영 부부막둥이 윤한부부 나오면 채널로 최초로 부부가 재미없음 막둥이 윤한...      0   \n",
       "3  8153927  황당한 쓰레기같은 스토리 수준을 초월한 칭찬해 차라리 디워는 나와서 신기하기라도 도...      0   \n",
       "4  8525988  측정용 영화임 당신은 마음이 남에게 상처를 못하는 당신은 인문학예술은 당신의 분야가...      0   \n",
       "\n",
       "   word_count  \n",
       "0          41  \n",
       "1          40  \n",
       "2          40  \n",
       "3          40  \n",
       "4          40  "
      ]
     },
     "execution_count": 5,
     "metadata": {},
     "output_type": "execute_result"
    }
   ],
   "source": [
    "df.head()"
   ]
  },
  {
   "cell_type": "code",
   "execution_count": 6,
   "metadata": {},
   "outputs": [
    {
     "name": "stdout",
     "output_type": "stream",
     "text": [
      "짧은 문장 제거 후: 1998\n"
     ]
    }
   ],
   "source": [
    "okt = Okt()\n",
    "def token_count(text):\n",
    "    tokens = okt.morphs(text, stem=True)\n",
    "    return len(tokens)\n",
    "\n",
    "# 토큰 개수가 3개 이상인 문장만 남김\n",
    "df = df[df['document'].apply(lambda x: token_count(x) >= 3)].reset_index(drop=True)\n",
    "print(\"짧은 문장 제거 후:\", len(df))"
   ]
  },
  {
   "cell_type": "code",
   "execution_count": 7,
   "metadata": {},
   "outputs": [
    {
     "name": "stdout",
     "output_type": "stream",
     "text": [
      "0    [쌕기, 종교, 랑, 보솤, ㅋㅋㅋㅋㅋ, 그, 라, 제, 우, 덜, 미군, 써다, ...\n",
      "1    [웬만하다, 선, 재밌다, 편, 인데, 끝나다, 개, 답답하다, 그래도, 지나다, ...\n",
      "2    [정유미, 정준영, 부부, 막둥이, 윤한, 부부, 나오다, 채널, 로, 최초, 로,...\n",
      "3    [황당하다, 쓰레기, 같다, 스토리, 수준, 을, 초월, 칭찬, 차라리, 디워, 나...\n",
      "4    [측정, 용, 영화, 임, 당신, 마음, 남, 에게, 상처, 못, 당신, 인문학, ...\n",
      "Name: tokens, dtype: object\n"
     ]
    }
   ],
   "source": [
    "stopwords = ['의','가','이','은','들','는','좀','잘','걍','과','도','를','으로','자','에','와','한','하다']\n",
    "def clean_tokenize(text):\n",
    "    tokens = okt.morphs(text, stem=True)\n",
    "    return [word for word in tokens if word not in stopwords]\n",
    "\n",
    "df['tokens'] = df['document'].apply(clean_tokenize)\n",
    "print(df['tokens'].head())"
   ]
  },
  {
   "cell_type": "code",
   "execution_count": 8,
   "metadata": {},
   "outputs": [
    {
     "data": {
      "text/html": [
       "<div>\n",
       "<style scoped>\n",
       "    .dataframe tbody tr th:only-of-type {\n",
       "        vertical-align: middle;\n",
       "    }\n",
       "\n",
       "    .dataframe tbody tr th {\n",
       "        vertical-align: top;\n",
       "    }\n",
       "\n",
       "    .dataframe thead th {\n",
       "        text-align: right;\n",
       "    }\n",
       "</style>\n",
       "<table border=\"1\" class=\"dataframe\">\n",
       "  <thead>\n",
       "    <tr style=\"text-align: right;\">\n",
       "      <th></th>\n",
       "      <th>id</th>\n",
       "      <th>document</th>\n",
       "      <th>label</th>\n",
       "      <th>word_count</th>\n",
       "      <th>tokens</th>\n",
       "    </tr>\n",
       "  </thead>\n",
       "  <tbody>\n",
       "    <tr>\n",
       "      <th>0</th>\n",
       "      <td>6928782</td>\n",
       "      <td>쌕기들이 종교랑 보솤ㅋㅋㅋㅋㅋ 그라제 우덜이 미군이 써보지도 완전히 전쟁도 있었당께...</td>\n",
       "      <td>0</td>\n",
       "      <td>41</td>\n",
       "      <td>[쌕기, 종교, 랑, 보솤, ㅋㅋㅋㅋㅋ, 그, 라, 제, 우, 덜, 미군, 써다, ...</td>\n",
       "    </tr>\n",
       "    <tr>\n",
       "      <th>1</th>\n",
       "      <td>9614878</td>\n",
       "      <td>웬만해선 재밌게 편인데 끝나나 개답답했다 그래도 지나면 재밌겠지 했는데 시나리오가 ...</td>\n",
       "      <td>0</td>\n",
       "      <td>40</td>\n",
       "      <td>[웬만하다, 선, 재밌다, 편, 인데, 끝나다, 개, 답답하다, 그래도, 지나다, ...</td>\n",
       "    </tr>\n",
       "    <tr>\n",
       "      <th>2</th>\n",
       "      <td>8330404</td>\n",
       "      <td>정유미 정준영 부부막둥이 윤한부부 나오면 채널로 최초로 부부가 재미없음 막둥이 윤한...</td>\n",
       "      <td>0</td>\n",
       "      <td>40</td>\n",
       "      <td>[정유미, 정준영, 부부, 막둥이, 윤한, 부부, 나오다, 채널, 로, 최초, 로,...</td>\n",
       "    </tr>\n",
       "    <tr>\n",
       "      <th>3</th>\n",
       "      <td>8153927</td>\n",
       "      <td>황당한 쓰레기같은 스토리 수준을 초월한 칭찬해 차라리 디워는 나와서 신기하기라도 도...</td>\n",
       "      <td>0</td>\n",
       "      <td>40</td>\n",
       "      <td>[황당하다, 쓰레기, 같다, 스토리, 수준, 을, 초월, 칭찬, 차라리, 디워, 나...</td>\n",
       "    </tr>\n",
       "    <tr>\n",
       "      <th>4</th>\n",
       "      <td>8525988</td>\n",
       "      <td>측정용 영화임 당신은 마음이 남에게 상처를 못하는 당신은 인문학예술은 당신의 분야가...</td>\n",
       "      <td>0</td>\n",
       "      <td>40</td>\n",
       "      <td>[측정, 용, 영화, 임, 당신, 마음, 남, 에게, 상처, 못, 당신, 인문학, ...</td>\n",
       "    </tr>\n",
       "  </tbody>\n",
       "</table>\n",
       "</div>"
      ],
      "text/plain": [
       "        id                                           document  label  \\\n",
       "0  6928782  쌕기들이 종교랑 보솤ㅋㅋㅋㅋㅋ 그라제 우덜이 미군이 써보지도 완전히 전쟁도 있었당께...      0   \n",
       "1  9614878  웬만해선 재밌게 편인데 끝나나 개답답했다 그래도 지나면 재밌겠지 했는데 시나리오가 ...      0   \n",
       "2  8330404  정유미 정준영 부부막둥이 윤한부부 나오면 채널로 최초로 부부가 재미없음 막둥이 윤한...      0   \n",
       "3  8153927  황당한 쓰레기같은 스토리 수준을 초월한 칭찬해 차라리 디워는 나와서 신기하기라도 도...      0   \n",
       "4  8525988  측정용 영화임 당신은 마음이 남에게 상처를 못하는 당신은 인문학예술은 당신의 분야가...      0   \n",
       "\n",
       "   word_count                                             tokens  \n",
       "0          41  [쌕기, 종교, 랑, 보솤, ㅋㅋㅋㅋㅋ, 그, 라, 제, 우, 덜, 미군, 써다, ...  \n",
       "1          40  [웬만하다, 선, 재밌다, 편, 인데, 끝나다, 개, 답답하다, 그래도, 지나다, ...  \n",
       "2          40  [정유미, 정준영, 부부, 막둥이, 윤한, 부부, 나오다, 채널, 로, 최초, 로,...  \n",
       "3          40  [황당하다, 쓰레기, 같다, 스토리, 수준, 을, 초월, 칭찬, 차라리, 디워, 나...  \n",
       "4          40  [측정, 용, 영화, 임, 당신, 마음, 남, 에게, 상처, 못, 당신, 인문학, ...  "
      ]
     },
     "execution_count": 8,
     "metadata": {},
     "output_type": "execute_result"
    }
   ],
   "source": [
    "df.head()"
   ]
  },
  {
   "cell_type": "code",
   "execution_count": 9,
   "metadata": {},
   "outputs": [
    {
     "name": "stdout",
     "output_type": "stream",
     "text": [
      "리뷰의 최대 길이 : 46\n",
      "리뷰의 평균 길이 : 28.24974974974975\n"
     ]
    }
   ],
   "source": [
    "print('리뷰의 최대 길이 :',max(len(review) for review in df['tokens']))\n",
    "print('리뷰의 평균 길이 :',sum(map(len, df['tokens']))/len(df['tokens']))"
   ]
  },
  {
   "cell_type": "code",
   "execution_count": 10,
   "metadata": {
    "id": "8q_hWBnkELPE"
   },
   "outputs": [
    {
     "data": {
      "image/png": "[encoded data removed]",
      "text/plain": [
       "<Figure size 640x480 with 1 Axes>"
      ]
     },
     "metadata": {},
     "output_type": "display_data"
    }
   ],
   "source": [
    "plt.hist([len(review) for review in df['tokens']], bins=50)\n",
    "plt.xlabel('length of samples')\n",
    "plt.ylabel('number of samples')\n",
    "plt.show()"
   ]
  },
  {
   "cell_type": "code",
   "execution_count": 11,
   "metadata": {},
   "outputs": [],
   "source": [
    "import time\n",
    "from gensim.models import Word2Vec"
   ]
  },
  {
   "cell_type": "code",
   "execution_count": 12,
   "metadata": {},
   "outputs": [
    {
     "data": {
      "image/png": "[encoded data removed]",
      "text/plain": [
       "<Figure size 1200x400 with 1 Axes>"
      ]
     },
     "metadata": {},
     "output_type": "display_data"
    }
   ],
   "source": [
    "\n",
    "df_samples=df['tokens']\n",
    "all_tokens = [token for tokens in df_samples for token in tokens]\n",
    "#토큰별 등장 빈도 계산\n",
    "counter = Counter(all_tokens)\n",
    "common_words = counter.most_common(20) \n",
    "words, freqs = zip(*common_words)\n",
    "\n",
    "plt.figure(figsize=(12,4))\n",
    "plt.bar(words, freqs)\n",
    "plt.title(\"Top 7 Most Common Tokens\")\n",
    "plt.xlabel(\"Tokens\")\n",
    "plt.ylabel(\"Frequency\")\n",
    "plt.show()"
   ]
  },
  {
   "cell_type": "code",
   "execution_count": 13,
   "metadata": {},
   "outputs": [],
   "source": [
    "list_tokens = list(df['tokens'])"
   ]
  },
  {
   "cell_type": "code",
   "execution_count": 14,
   "metadata": {},
   "outputs": [
    {
     "name": "stdout",
     "output_type": "stream",
     "text": [
      "[Skip-gram] 학습 시간: 0.9577초\n"
     ]
    }
   ],
   "source": [
    "start = time.time()\n",
    "model  = Word2Vec(list_tokens, vector_size=100, window=3, min_count=1, sg=1)\n",
    "elapsed_time = time.time() - start\n",
    "print(f\"[Skip-gram] 학습 시간: {elapsed_time:.4f}초\")"
   ]
  },
  {
   "cell_type": "code",
   "execution_count": 15,
   "metadata": {},
   "outputs": [
    {
     "name": "stdout",
     "output_type": "stream",
     "text": [
      "target_word: 사람\n",
      "\n",
      "'사람' 벡터:\n",
      " [-0.09219519  0.31271523  0.04235157  0.11385854 -0.00222401 -0.44315362\n",
      "  0.17322595  0.5401837  -0.2613425  -0.11891062 -0.03387661 -0.3665122\n",
      " -0.12560584  0.21889198 -0.03852016 -0.16627522  0.05624998 -0.25732443\n",
      "  0.06400202 -0.45754302  0.195026    0.11563436  0.2395557  -0.25504982\n",
      " -0.10919949  0.0051401  -0.29479244 -0.03852773 -0.22603826  0.04562685\n",
      "  0.33957607 -0.06270503  0.18278515 -0.21886262 -0.08032915  0.3060417\n",
      "  0.00445169 -0.07703203 -0.0679222  -0.3814986   0.08629185 -0.27166012\n",
      " -0.09790438  0.02579051  0.12830614 -0.15786548 -0.11369622 -0.01188196\n",
      "  0.25019267  0.19923347  0.18061596 -0.28310388 -0.07449053  0.02326879\n",
      " -0.01850856  0.11506518  0.05342651  0.05122949 -0.30603582  0.1206037\n",
      "  0.11603799  0.07107354  0.09170082 -0.03519065 -0.3006847   0.32105073\n",
      "  0.16433248  0.27547413 -0.35692412  0.32253903 -0.18601914  0.10422906\n",
      "  0.35275355 -0.09285344  0.36006403  0.07635786  0.00731103  0.01422167\n",
      " -0.2178242   0.1493899  -0.2775784  -0.0897227  -0.21706134  0.38690966\n",
      " -0.133877   -0.06534074  0.07181212  0.19091797  0.32011858  0.12357344\n",
      "  0.22635005  0.12426873  0.12055209  0.0471856   0.437632    0.15021798\n",
      "  0.02386351 -0.24090946  0.04355609 -0.05037245]\n"
     ]
    }
   ],
   "source": [
    "target_word = '사람'\n",
    "print('target_word:',target_word)\n",
    "print(f\"\\n'{target_word}' 벡터:\\n\", model.wv[target_word])"
   ]
  },
  {
   "cell_type": "markdown",
   "metadata": {},
   "source": [
    "### 실습(1): 아래 셀에 교재에 있는 실습코드를 추가해세요."
   ]
  },
  {
   "cell_type": "code",
   "execution_count": 19,
   "metadata": {},
   "outputs": [],
   "source": [
    "## 여기에 코드 작성\n",
    "\n"
   ]
  },
  {
   "cell_type": "code",
   "execution_count": 16,
   "metadata": {},
   "outputs": [],
   "source": [
    "from sklearn.manifold import TSNE\n",
    "import matplotlib.pyplot as plt\n",
    "import numpy as np\n",
    "\n",
    "def visualize_word2vec_cbow_vs_skipgram(model_cbow, model_sg, base_word='배우', topn=10):\n",
    "    import numpy as np\n",
    "    import matplotlib.pyplot as plt\n",
    "    from sklearn.manifold import TSNE\n",
    "\n",
    "    # base_word 체크\n",
    "    if base_word not in model_cbow.wv or base_word not in model_sg.wv:\n",
    "        print(f\"'{base_word}' 단어가 두 모델의 vocabulary에 모두 있어야 합니다.\")\n",
    "        return\n",
    "\n",
    "    # 유사 단어 추출\n",
    "    words_cbow = [base_word] + [w for w, _ in model_cbow.wv.most_similar(base_word, topn=topn)]\n",
    "    vecs_cbow = np.array([model_cbow.wv[w] for w in words_cbow])\n",
    "\n",
    "    words_sg = [base_word] + [w for w, _ in model_sg.wv.most_similar(base_word, topn=topn)]\n",
    "    vecs_sg = np.array([model_sg.wv[w] for w in words_sg])\n",
    "\n",
    "    # 벡터 결합\n",
    "    combined_vecs = np.vstack([vecs_cbow, vecs_sg])\n",
    "    perplexity = min(30, len(combined_vecs) - 1)\n",
    "\n",
    "    tsne = TSNE(n_components=2, random_state=42, perplexity=perplexity, init='pca', learning_rate=100)\n",
    "    reduced = tsne.fit_transform(combined_vecs)\n",
    "\n",
    "    reduced_cbow = reduced[:len(words_cbow)]\n",
    "    reduced_sg = reduced[len(words_cbow):]\n",
    "\n",
    "    # Plot\n",
    "    plt.figure(figsize=(7,5))\n",
    "\n",
    "    # CBOW 점\n",
    "    for i, word in enumerate(words_cbow):\n",
    "        x, y = reduced_cbow[i]\n",
    "        if word == base_word:\n",
    "            plt.scatter(x, y, color='blue', marker='*', s=250, label='CBOW (base_word)' if i == 0 else \"\")\n",
    "        else:\n",
    "            plt.scatter(x, y, color='blue', marker='o', s=80, alpha=0.6)\n",
    "        plt.annotate(word, (x + 0.5, y + 0.5), fontsize=8, color='blue')\n",
    "\n",
    "    # Skip-gram 점\n",
    "    for i, word in enumerate(words_sg):\n",
    "        x, y = reduced_sg[i]\n",
    "        if word == base_word:\n",
    "            plt.scatter(x, y, color='red', marker='*', s=250, label='Skip-gram (base_word)' if i == 0 else \"\")\n",
    "        else:\n",
    "            plt.scatter(x, y, color='red', marker='o', s=80, alpha=0.6)\n",
    "        plt.annotate(word, (x + 0.5, y + 0.5), fontsize=8, color='red')\n",
    "\n",
    "    plt.title(f\"CBOW vs Skip-gram Word2Vec TSNE 비교 (기준 단어: '{base_word}')\", fontsize=10)\n",
    "    plt.legend(frameon=False)\n",
    "    plt.grid(False)\n",
    "    plt.show()"
   ]
  },
  {
   "cell_type": "code",
   "execution_count": 18,
   "metadata": {
    "scrolled": true
   },
   "outputs": [
    {
     "data": {
      "image/png": "[encoded data removed]",
      "text/plain": [
       "<Figure size 700x500 with 1 Axes>"
      ]
     },
     "metadata": {},
     "output_type": "display_data"
    }
   ],
   "source": [
    "target_word = '영화'\n",
    "\n",
    "model_cbow = Word2Vec(list_tokens, vector_size=100, window=3, min_count=1, sg=0)\n",
    "\n",
    "model_sg = Word2Vec(list_tokens, vector_size=100, window=3, min_count=1, sg=1)\n",
    "\n",
    "visualize_word2vec_cbow_vs_skipgram( model_cbow, model_sg, base_word=target_word,  topn=5)\n"
   ]
  },
  {
   "cell_type": "markdown",
   "metadata": {},
   "source": [
    "### 실습2 : 교재에 있는 실습 코들를 작성하세요. \n"
   ]
  },
  {
   "cell_type": "code",
   "execution_count": 20,
   "metadata": {},
   "outputs": [],
   "source": [
    "target_word = '사람'\n",
    "## 아래에 코드를 추가하세요\n"
   ]
  }
 ],
 "metadata": {
  "accelerator": "GPU",
  "colab": {
   "gpuType": "T4",
   "private_outputs": true,
   "provenance": []
  },
  "kernelspec": {
   "display_name": "tf3",
   "language": "python",
   "name": "tf3"
  },
  "language_info": {
   "codemirror_mode": {
    "name": "ipython",
    "version": 3
   },
   "file_extension": ".py",
   "mimetype": "text/x-python",
   "name": "python",
   "nbconvert_exporter": "python",
   "pygments_lexer": "ipython3",
   "version": "3.9.23"
  }
 },
 "nbformat": 4,
 "nbformat_minor": 4
}
