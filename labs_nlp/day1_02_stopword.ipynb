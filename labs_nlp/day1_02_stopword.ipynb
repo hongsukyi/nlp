{
 "cells": [
  {
   "cell_type": "code",
   "execution_count": 1,
   "id": "fb935775-8bb8-4fdf-b4cf-fc02d21f0d19",
   "metadata": {},
   "outputs": [],
   "source": [
    "import numpy as np\n",
    "import pandas as pd\n",
    "import matplotlib.pyplot as plt\n",
    "import koreanize_matplotlib\n",
    "from konlpy.tag import Okt\n",
    "from collections import Counter"
   ]
  },
  {
   "cell_type": "code",
   "execution_count": 2,
   "id": "bde02ca8-7a96-4f88-af45-85e8013b9b1c",
   "metadata": {},
   "outputs": [
    {
     "data": {
      "text/html": [
       "<div>\n",
       "<style scoped>\n",
       "    .dataframe tbody tr th:only-of-type {\n",
       "        vertical-align: middle;\n",
       "    }\n",
       "\n",
       "    .dataframe tbody tr th {\n",
       "        vertical-align: top;\n",
       "    }\n",
       "\n",
       "    .dataframe thead th {\n",
       "        text-align: right;\n",
       "    }\n",
       "</style>\n",
       "<table border=\"1\" class=\"dataframe\">\n",
       "  <thead>\n",
       "    <tr style=\"text-align: right;\">\n",
       "      <th></th>\n",
       "      <th>id</th>\n",
       "      <th>document</th>\n",
       "      <th>label</th>\n",
       "      <th>word_count</th>\n",
       "    </tr>\n",
       "  </thead>\n",
       "  <tbody>\n",
       "    <tr>\n",
       "      <th>0</th>\n",
       "      <td>6928782</td>\n",
       "      <td>민좆 파쇼 쌕기들이 종교랑 같이 까는 수준 좀 보솤ㅋㅋㅋㅋㅋ 암 그라제! 우덜이 미...</td>\n",
       "      <td>0</td>\n",
       "      <td>41</td>\n",
       "    </tr>\n",
       "    <tr>\n",
       "      <th>1</th>\n",
       "      <td>9614878</td>\n",
       "      <td>나 진짜 웬만해선 다 재밌게 보는 편인데 진짜 보는 내내 언제 끝나나 개답답했다. ...</td>\n",
       "      <td>0</td>\n",
       "      <td>40</td>\n",
       "    </tr>\n",
       "    <tr>\n",
       "      <th>2</th>\n",
       "      <td>8330404</td>\n",
       "      <td>정유미 정준영 부부&amp;막둥이 부부 땜 에 봐요 윤한부부 나오면 바로 다른 채널로 사상...</td>\n",
       "      <td>0</td>\n",
       "      <td>40</td>\n",
       "    </tr>\n",
       "    <tr>\n",
       "      <th>3</th>\n",
       "      <td>8153927</td>\n",
       "      <td>황당한 소재 및 전개. 쓰레기같은 스토리. 그 수준을 초월한 CG. 정말 어느 것 ...</td>\n",
       "      <td>0</td>\n",
       "      <td>40</td>\n",
       "    </tr>\n",
       "    <tr>\n",
       "      <th>4</th>\n",
       "      <td>8525988</td>\n",
       "      <td>EQ 측정용 영화임. 별 2개 - 당신은 마음이 아직 여린 편. 별 3개 - 남에게...</td>\n",
       "      <td>0</td>\n",
       "      <td>40</td>\n",
       "    </tr>\n",
       "  </tbody>\n",
       "</table>\n",
       "</div>"
      ],
      "text/plain": [
       "        id                                           document  label  \\\n",
       "0  6928782  민좆 파쇼 쌕기들이 종교랑 같이 까는 수준 좀 보솤ㅋㅋㅋㅋㅋ 암 그라제! 우덜이 미...      0   \n",
       "1  9614878  나 진짜 웬만해선 다 재밌게 보는 편인데 진짜 보는 내내 언제 끝나나 개답답했다. ...      0   \n",
       "2  8330404  정유미 정준영 부부&막둥이 부부 땜 에 봐요 윤한부부 나오면 바로 다른 채널로 사상...      0   \n",
       "3  8153927  황당한 소재 및 전개. 쓰레기같은 스토리. 그 수준을 초월한 CG. 정말 어느 것 ...      0   \n",
       "4  8525988  EQ 측정용 영화임. 별 2개 - 당신은 마음이 아직 여린 편. 별 3개 - 남에게...      0   \n",
       "\n",
       "   word_count  \n",
       "0          41  \n",
       "1          40  \n",
       "2          40  \n",
       "3          40  \n",
       "4          40  "
      ]
     },
     "execution_count": 2,
     "metadata": {},
     "output_type": "execute_result"
    }
   ],
   "source": [
    "\n",
    "df=pd.read_csv(\"https://raw.githubusercontent.com/hongsukyi/Lectures/main/data/nsmc.txt\", sep=\"\\t\")\n",
    "\n",
    "df['word_count'] = df['document'].apply(lambda x: len(str(x).split()))\n",
    "df_sorted = df.sort_values(by='word_count', ascending=False).reset_index(drop=True)\n",
    "\n",
    "df=df_sorted[:5000].copy()\n",
    "df.head()"
   ]
  },
  {
   "cell_type": "code",
   "execution_count": 3,
   "id": "0d5def7d-117a-41ec-a53a-73ca0e5b32c1",
   "metadata": {},
   "outputs": [
    {
     "name": "stdout",
     "output_type": "stream",
     "text": [
      "결측치 처리 이후: 5000\n",
      "중복 제거 이후: 4997\n",
      "한글 아닌 문자 제거 이후: 4997\n",
      "리뷰 길이가 짧은 것 제거 : 4997\n"
     ]
    },
    {
     "data": {
      "text/html": [
       "<div>\n",
       "<style scoped>\n",
       "    .dataframe tbody tr th:only-of-type {\n",
       "        vertical-align: middle;\n",
       "    }\n",
       "\n",
       "    .dataframe tbody tr th {\n",
       "        vertical-align: top;\n",
       "    }\n",
       "\n",
       "    .dataframe thead th {\n",
       "        text-align: right;\n",
       "    }\n",
       "</style>\n",
       "<table border=\"1\" class=\"dataframe\">\n",
       "  <thead>\n",
       "    <tr style=\"text-align: right;\">\n",
       "      <th></th>\n",
       "      <th>id</th>\n",
       "      <th>document</th>\n",
       "      <th>label</th>\n",
       "      <th>word_count</th>\n",
       "    </tr>\n",
       "  </thead>\n",
       "  <tbody>\n",
       "    <tr>\n",
       "      <th>0</th>\n",
       "      <td>6928782</td>\n",
       "      <td>쌕기들이 종교랑 보솤ㅋㅋㅋㅋㅋ 그라제 우덜이 미군이 써보지도 완전히 전쟁도 있었당께...</td>\n",
       "      <td>0</td>\n",
       "      <td>41</td>\n",
       "    </tr>\n",
       "    <tr>\n",
       "      <th>1</th>\n",
       "      <td>9614878</td>\n",
       "      <td>웬만해선 재밌게 편인데 끝나나 개답답했다 그래도 지나면 재밌겠지 했는데 시나리오가 ...</td>\n",
       "      <td>0</td>\n",
       "      <td>40</td>\n",
       "    </tr>\n",
       "    <tr>\n",
       "      <th>2</th>\n",
       "      <td>8330404</td>\n",
       "      <td>정유미 정준영 부부막둥이 윤한부부 나오면 채널로 최초로 부부가 재미없음 막둥이 윤한...</td>\n",
       "      <td>0</td>\n",
       "      <td>40</td>\n",
       "    </tr>\n",
       "    <tr>\n",
       "      <th>3</th>\n",
       "      <td>8153927</td>\n",
       "      <td>황당한 쓰레기같은 스토리 수준을 초월한 칭찬해 차라리 디워는 나와서 신기하기라도 도...</td>\n",
       "      <td>0</td>\n",
       "      <td>40</td>\n",
       "    </tr>\n",
       "    <tr>\n",
       "      <th>4</th>\n",
       "      <td>8525988</td>\n",
       "      <td>측정용 영화임 당신은 마음이 남에게 상처를 못하는 당신은 인문학예술은 당신의 분야가...</td>\n",
       "      <td>0</td>\n",
       "      <td>40</td>\n",
       "    </tr>\n",
       "  </tbody>\n",
       "</table>\n",
       "</div>"
      ],
      "text/plain": [
       "        id                                           document  label  \\\n",
       "0  6928782  쌕기들이 종교랑 보솤ㅋㅋㅋㅋㅋ 그라제 우덜이 미군이 써보지도 완전히 전쟁도 있었당께...      0   \n",
       "1  9614878  웬만해선 재밌게 편인데 끝나나 개답답했다 그래도 지나면 재밌겠지 했는데 시나리오가 ...      0   \n",
       "2  8330404  정유미 정준영 부부막둥이 윤한부부 나오면 채널로 최초로 부부가 재미없음 막둥이 윤한...      0   \n",
       "3  8153927  황당한 쓰레기같은 스토리 수준을 초월한 칭찬해 차라리 디워는 나와서 신기하기라도 도...      0   \n",
       "4  8525988  측정용 영화임 당신은 마음이 남에게 상처를 못하는 당신은 인문학예술은 당신의 분야가...      0   \n",
       "\n",
       "   word_count  \n",
       "0          41  \n",
       "1          40  \n",
       "2          40  \n",
       "3          40  \n",
       "4          40  "
      ]
     },
     "execution_count": 3,
     "metadata": {},
     "output_type": "execute_result"
    }
   ],
   "source": [
    "df.replace(\"\", float(\"NaN\"), inplace=True)\n",
    "df = df.dropna().reset_index(drop=True)\n",
    "print('결측치 처리 이후:',len(df))\n",
    "\n",
    "df = df.drop_duplicates(['document']).reset_index(drop=True)\n",
    "print('중복 제거 이후:',len(df))\n",
    "\n",
    "df['document'] = df['document'].str.replace(r\"[^ㄱ-ㅎㅏ-ㅣ가-힣 ]\", \"\", regex=True)\n",
    "print('한글 아닌 문자 제거 이후:',len(df))\n",
    "\n",
    "df['document'] = df['document'].apply(lambda x: ' '.join([token for token in x.split() if len(token) > 2]))\n",
    "print('리뷰 길이가 짧은 것 제거 :',len(df))\n",
    "\n",
    "df.head()"
   ]
  },
  {
   "cell_type": "code",
   "execution_count": 4,
   "id": "10a277c2-f616-4909-b0dd-5eb186fa0d96",
   "metadata": {},
   "outputs": [
    {
     "name": "stdout",
     "output_type": "stream",
     "text": [
      "짧은 문장 제거 후: 4997\n"
     ]
    }
   ],
   "source": [
    "\n",
    "okt = Okt()\n",
    "def token_count(text):\n",
    "    tokens = okt.morphs(text, stem=True)\n",
    "    return len(tokens)\n",
    "\n",
    "# 토큰 개수가 3개 이상인 문장만 남김\n",
    "df = df[df['document'].apply(lambda x: token_count(x) >= 3)].reset_index(drop=True)\n",
    "print(\"짧은 문장 제거 후:\", len(df))"
   ]
  },
  {
   "cell_type": "code",
   "execution_count": 5,
   "id": "c69358c0-3f23-4e88-861c-d181dbc7effe",
   "metadata": {},
   "outputs": [
    {
     "name": "stdout",
     "output_type": "stream",
     "text": [
      "0    [쌕기, 종교, 랑, 보솤, ㅋㅋㅋㅋㅋ, 라, 제, 우, 덜, 미군, 써다, 보지,...\n",
      "1    [웬만하다, 선, 재밌다, 편, 인데, 끝나다, 개, 답답하다, 그래도, 지나다, ...\n",
      "2    [정유미, 정준영, 부부, 막둥이, 윤한, 부부, 나오다, 채널, 최초, 부부, 재...\n",
      "3    [황당하다, 쓰레기, 같다, 스토리, 수준, 초월, 칭찬, 차라리, 디워, 나오다,...\n",
      "4    [측정, 용, 영화, 임, 당신, 마음, 남, 에게, 상처, 당신, 인문학, 예술,...\n",
      "Name: tokens, dtype: object\n"
     ]
    }
   ],
   "source": [
    "stopwords = ['의', '가', '이', '은', '들', '는', '좀', '잘', '걍', '과', '도', '를', \n",
    "             '자', '에', '와', '한', '을', '적', '로', '인', '만', '다', '못', '고', '안','것','나','그' ]\n",
    "\n",
    "def clean_tokenize(text):\n",
    "    tokens = okt.morphs(text, stem=True)\n",
    "    return [word for word in tokens if word not in stopwords]\n",
    "\n",
    "df['tokens'] = df['document'].apply(clean_tokenize)\n",
    "print(df['tokens'].head())\n"
   ]
  },
  {
   "cell_type": "code",
   "execution_count": 6,
   "id": "e13ab6ee-fe66-424a-a6cc-48cf6c691332",
   "metadata": {},
   "outputs": [
    {
     "data": {
      "image/png": "[encoded data removed]",
      "text/plain": [
       "<Figure size 1200x400 with 1 Axes>"
      ]
     },
     "metadata": {},
     "output_type": "display_data"
    }
   ],
   "source": [
    "df_samples=df['tokens']\n",
    "all_tokens = [token for tokens in df_samples for token in tokens]\n",
    "\n",
    "counter = Counter(all_tokens)\n",
    "common_words = counter.most_common(20) \n",
    "words, freqs = zip(*common_words)\n",
    "\n",
    "plt.figure(figsize=(12,4))\n",
    "plt.bar(words, freqs)\n",
    "plt.title(\"Top 7 Most Common Tokens\")\n",
    "plt.xlabel(\"Tokens\")\n",
    "plt.ylabel(\"Frequency\")\n",
    "plt.show()\n"
   ]
  },
  {
   "cell_type": "code",
   "execution_count": 7,
   "id": "fe524048-9f5a-472f-8a6c-e7d27b95adfb",
   "metadata": {},
   "outputs": [
    {
     "data": {
      "image/png": "[encoded data removed]",
      "text/plain": [
       "<Figure size 700x500 with 1 Axes>"
      ]
     },
     "metadata": {},
     "output_type": "display_data"
    }
   ],
   "source": [
    "\n",
    "## 패딩을 위한 95% 분위값 출력\n",
    "q95= df['word_count'].quantile([0.95])\n",
    "\n",
    "plt.figure(figsize=(7, 5))\n",
    "plt.hist(df['word_count'], bins=50, color='lightblue', edgecolor='black')\n",
    "\n",
    "\n",
    "plt.axvline(x=q95.iloc[0], color='gray', linestyle='--', label=f'95%: {int(q95.iloc[0])}')\n",
    "plt.title('문서별 단어 수 분포 및 분위수 기준선', fontsize=10)\n",
    "plt.xlabel('단어 수', fontsize=10)\n",
    "plt.ylabel('문서 수', fontsize=10)\n",
    "plt.legend(frameon=False,fontsize=10)\n",
    "plt.grid(False)\n",
    "plt.show()"
   ]
  },
  {
   "cell_type": "code",
   "execution_count": null,
   "id": "2ea94e52-d41a-4b94-9e12-6408e386631e",
   "metadata": {},
   "outputs": [],
   "source": []
  },
  {
   "cell_type": "code",
   "execution_count": null,
   "id": "c1f5bfda-4f63-4bcb-a2f9-512e258d86bf",
   "metadata": {},
   "outputs": [],
   "source": []
  }
 ],
 "metadata": {
  "kernelspec": {
   "display_name": "tf3",
   "language": "python",
   "name": "tf3"
  },
  "language_info": {
   "codemirror_mode": {
    "name": "ipython",
    "version": 3
   },
   "file_extension": ".py",
   "mimetype": "text/x-python",
   "name": "python",
   "nbconvert_exporter": "python",
   "pygments_lexer": "ipython3",
   "version": "3.9.23"
  }
 },
 "nbformat": 4,
 "nbformat_minor": 5
}
