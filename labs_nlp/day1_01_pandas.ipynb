{
 "cells": [
  {
   "cell_type": "code",
   "execution_count": null,
   "metadata": {
    "id": "8q_hWBnkELPE"
   },
   "outputs": [],
   "source": [
    "import pandas as pd\n",
    "import matplotlib.pyplot as plt\n",
    "\n",
    "!pip install koreanize-matplotlib\n",
    "import koreanize_matplotlib"
   ]
  },
  {
   "cell_type": "code",
   "execution_count": null,
   "metadata": {
    "id": "8q_hWBnkELPE"
   },
   "outputs": [],
   "source": [
    "df=pd.read_csv(\"https://raw.githubusercontent.com/hongsukyi/Lectures/main/data/nsmc.txt\", sep=\"\\t\")\n",
    "df.head()"
   ]
  },
  {
   "cell_type": "code",
   "execution_count": null,
   "metadata": {},
   "outputs": [],
   "source": [
    "len(df)"
   ]
  },
  {
   "cell_type": "code",
   "execution_count": null,
   "metadata": {},
   "outputs": [],
   "source": [
    "df = df.dropna(subset=['document'])\n",
    "len(df)"
   ]
  },
  {
   "cell_type": "code",
   "execution_count": null,
   "metadata": {},
   "outputs": [],
   "source": [
    "# 공백 기준으로 나눈 단어 개수 계산\n",
    "df['word_count'] = df['document'].apply(lambda x: len(str(x).split()))\n",
    "df.head()"
   ]
  },
  {
   "cell_type": "code",
   "execution_count": null,
   "metadata": {},
   "outputs": [],
   "source": [
    "# 단어 수 분포 시각화\n",
    "plt.figure(figsize=(8, 6))\n",
    "plt.hist(df['word_count'], bins=50, color='lightblue', edgecolor='black')\n",
    "\n",
    "plt.title('단어 개수 분포 (한글 문장 기준)', fontsize=10)\n",
    "plt.xlabel('단어 수', fontsize=10)\n",
    "plt.ylabel('문서 수', fontsize=10)\n",
    "plt.grid(False)\n",
    "plt.show()"
   ]
  },
  {
   "cell_type": "code",
   "execution_count": null,
   "metadata": {},
   "outputs": [],
   "source": [
    "# 단어 수 통계 정보 출력\n",
    "print(df['word_count'].describe())"
   ]
  },
  {
   "cell_type": "code",
   "execution_count": null,
   "metadata": {},
   "outputs": [],
   "source": [
    "max_val = df['word_count'].max()\n",
    "\n",
    "quantiles = df['word_count'].quantile([0.80, 0.90, 0.95, 0.99])\n",
    "q80, q90, q95, q99 = quantiles[0.80], quantiles[0.90], quantiles[0.95], quantiles[0.99]\n",
    "print(quantiles)"
   ]
  },
  {
   "cell_type": "code",
   "execution_count": null,
   "metadata": {},
   "outputs": [],
   "source": [
    "plt.figure(figsize=(8, 6))\n",
    "plt.hist(df['word_count'], bins=50, color='lightblue', edgecolor='black')\n",
    "y_max=8000\n",
    "plt.vlines(x=q90,  ymin=0, ymax=y_max, color='orange', linestyle='--', label=f'90%: {int(q90)}')\n",
    "\n",
    "plt.title('문서별 단어 수 분포 및 분위수 기준선', fontsize=10)\n",
    "plt.xlabel('단어 수', fontsize=10)\n",
    "plt.ylabel('문서 수', fontsize=10)\n",
    "plt.legend(frameon=False,fontsize=8)\n",
    "plt.grid(False)\n",
    "plt.show()"
   ]
  },
  {
   "cell_type": "code",
   "execution_count": null,
   "metadata": {},
   "outputs": [],
   "source": []
  }
 ],
 "metadata": {
  "accelerator": "GPU",
  "colab": {
   "gpuType": "T4",
   "private_outputs": true,
   "provenance": []
  },
  "kernelspec": {
   "display_name": "tf3",
   "language": "python",
   "name": "tf3"
  },
  "language_info": {
   "codemirror_mode": {
    "name": "ipython",
    "version": 3
   },
   "file_extension": ".py",
   "mimetype": "text/x-python",
   "name": "python",
   "nbconvert_exporter": "python",
   "pygments_lexer": "ipython3",
   "version": "3.9.23"
  }
 },
 "nbformat": 4,
 "nbformat_minor": 4
}
