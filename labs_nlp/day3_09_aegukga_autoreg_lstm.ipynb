{
 "cells": [
  {
   "cell_type": "code",
   "execution_count": 1,
   "id": "8f92b3eb-c280-453b-93f6-0ea5b3fe0b59",
   "metadata": {},
   "outputs": [],
   "source": [
    "import tensorflow as tf\n",
    "tf.__version__\n",
    "\n",
    "from tensorflow.keras.preprocessing.text import Tokenizer\n",
    "from tensorflow.keras.preprocessing.sequence import pad_sequences\n",
    "from tensorflow.keras.models import Sequential, Model\n",
    "from tensorflow.keras.layers import Embedding, LSTM, Dense, Input\n",
    "from tensorflow.keras.utils import to_categorical\n",
    "\n",
    "from sklearn.model_selection import train_test_split\n",
    "import numpy as np\n",
    "\n",
    "# 애국가 예제 텍스트\n",
    "text = \"\"\"\n",
    "동해 물과 백두산이 마르고 닳도록 하느님이 보우하사 우리나라 만세\n",
    "무궁화 삼천리 화려강산 대한 사람 대한으로 길이 보전하세\n",
    "남산 위에 저 소나무 철갑을 두른 듯 바람 서리 불변함은 우리 기상일세\n",
    "무궁화 삼천리 화려강산 대한 사람 대한으로 길이 보전하세\n",
    "\"\"\""
   ]
  },
  {
   "cell_type": "code",
   "execution_count": 2,
   "id": "3569be8b-129f-43d2-b96c-fea22778bac0",
   "metadata": {},
   "outputs": [
    {
     "name": "stdout",
     "output_type": "stream",
     "text": [
      "\n",
      "token_list: [9, 10, 11, 12, 13, 14, 15, 16, 17, 1, 2, 3, 4, 5, 6, 7, 8, 18, 19, 20, 21, 22, 23, 24, 25, 26, 27, 28, 29, 1, 2, 3, 4, 5, 6, 7, 8]\n",
      "\n",
      "total words: 30\n"
     ]
    }
   ],
   "source": [
    "# Tokenizer 적용\n",
    "tokenizer = Tokenizer()\n",
    "#print('\\ntokenizer:',tokenizer)\n",
    "\n",
    "tokenizer.fit_on_texts([text])\n",
    "token_list = tokenizer.texts_to_sequences([text])[0]\n",
    "print('\\ntoken_list:',token_list)\n",
    "\n",
    "word_index = tokenizer.word_index\n",
    "#print('\\nword_index:',word_index)\n",
    "\n",
    "vocab_size = len(word_index) + 1\n",
    "print(\"\\ntotal words:\", vocab_size)"
   ]
  },
  {
   "cell_type": "code",
   "execution_count": 3,
   "id": "13864c8a-0ed5-4599-b0ae-d7e34e960eec",
   "metadata": {},
   "outputs": [],
   "source": [
    "embedding_dim = 8"
   ]
  },
  {
   "cell_type": "code",
   "execution_count": 4,
   "id": "93282d1c-5106-4a82-85fa-b59a34866538",
   "metadata": {},
   "outputs": [
    {
     "name": "stdout",
     "output_type": "stream",
     "text": [
      "\n",
      "단어(토큰)   \t→ 임베딩 벡터:\n",
      "동해(9) \t→ [-0.026 -0.038 -0.028 -0.042  0.025  0.048  0.011 -0.042]\n",
      "물과(10) \t→ [ 0.003 -0.029  0.012  0.024 -0.014  0.027  0.012  0.044]\n",
      "백두산이(11) \t→ [-0.008 -0.005 -0.025  0.012  0.007  0.028  0.006 -0.021]\n",
      "마르고(12) \t→ [ 0.038 -0.029 -0.045  0.022  0.029  0.026 -0.001  0.006]\n",
      "닳도록(13) \t→ [-0.019  0.003 -0.045  0.039 -0.038  0.005 -0.049  0.036]\n"
     ]
    }
   ],
   "source": [
    "input_token = Input(shape=(1,))\n",
    "first_5_words = text.strip().split()[:5]\n",
    "first_5_tokens = token_list[:5]\n",
    "output_vector = Embedding(input_dim=vocab_size, output_dim=embedding_dim)(input_token)\n",
    "embedding_model = Model(inputs=input_token, outputs=output_vector)\n",
    "\n",
    "print(\"\\n단어(토큰)   \\t→ 임베딩 벡터:\")\n",
    "for word, token in zip(first_5_words, first_5_tokens):\n",
    "    token_array = np.array([[token]])\n",
    "    embedding_vector = embedding_model.predict(token_array, verbose=0)[0][0]\n",
    "    print(f\"{word}({token}) \\t→ {np.round(embedding_vector, 3)}\")"
   ]
  },
  {
   "cell_type": "code",
   "execution_count": 5,
   "id": "0f2315ba-6d90-4b8b-92bd-294b2e1a869d",
   "metadata": {},
   "outputs": [],
   "source": [
    "# 하이퍼파라미터 정의\n",
    "embedding_dim = 32\n",
    "dnn_units = 32\n",
    "hidden_units = 64\n",
    "max_len= 6"
   ]
  },
  {
   "cell_type": "code",
   "execution_count": 6,
   "id": "de02ab5f-edd2-4bd6-9605-4068c98c60a5",
   "metadata": {},
   "outputs": [],
   "source": [
    "# 데이터 생성. windows=max_len\n",
    "input_sequences = []\n",
    "for i in range(max_len, len(token_list)):\n",
    "    input_sequences.append(token_list[i-max_len:i+1])\n",
    "\n",
    "input_sequences = np.array(input_sequences)\n",
    "X = input_sequences[:, :-1]\n",
    "y = to_categorical(input_sequences[:, -1], num_classes=vocab_size) # one-hot\n",
    "\n",
    "X_train, X_test, y_train, y_test = train_test_split(X, y, test_size=0.2, random_state=42)\n",
    "\n",
    "model = Sequential([\n",
    "    Embedding(input_dim=vocab_size, output_dim=embedding_dim),\n",
    "    LSTM(hidden_units),\n",
    "    Dense(dnn_units, activation='relu'),\n",
    "    Dense(vocab_size, activation='softmax')\n",
    "])\n",
    "\n",
    "model.compile(loss='categorical_crossentropy', optimizer='adam', metrics=['accuracy'])\n",
    "history = model.fit(X_train, y_train, epochs=200,verbose=0)"
   ]
  },
  {
   "cell_type": "code",
   "execution_count": 7,
   "id": "82606564-d097-4ca9-ad2b-9c1a37c99e6c",
   "metadata": {},
   "outputs": [
    {
     "data": {
      "image/png": "[encoded data removed]",
      "text/plain": [
       "<Figure size 350x250 with 1 Axes>"
      ]
     },
     "metadata": {},
     "output_type": "display_data"
    }
   ],
   "source": [
    "import matplotlib.pyplot as plt\n",
    "\n",
    "# ▶ 학습 이력 시각화 함수\n",
    "def plot_history(history, title=\"Model\"):\n",
    "    plt.figure(figsize=(3.5, 2.5))\n",
    "\n",
    "    # Loss plot\n",
    "    #plt.subplot(1, 2, 1)\n",
    "    plt.plot(history.history['loss'], label='Loss')\n",
    "    plt.title(f'{title} Loss')\n",
    "    plt.xlabel('Epoch')\n",
    "    plt.ylabel('Loss')\n",
    "    plt.legend(frameon=False)\n",
    "\n",
    "    # Accuracy plot\n",
    "   # plt.subplot(1, 2, 2)\n",
    "    plt.plot(history.history['accuracy'], label='Accuracy')\n",
    "    plt.title(f'{title} Accuracy')\n",
    "    plt.xlabel('Epoch')\n",
    "    plt.ylabel('Accuracy')\n",
    "    plt.legend(frameon=False)\n",
    "\n",
    "    plt.tight_layout()\n",
    "    plt.show()\n",
    "\n",
    "plot_history(history, title=\"Auto-regressive\")"
   ]
  },
  {
   "cell_type": "code",
   "execution_count": 8,
   "id": "0533d792-9575-48b0-92e5-c5f4c7da1084",
   "metadata": {},
   "outputs": [
    {
     "name": "stdout",
     "output_type": "stream",
     "text": [
      "Test Accuracy: 0.142857\n",
      "Test loss: 10.708433\n"
     ]
    }
   ],
   "source": [
    "# 테스트 정확도 평가\n",
    "loss, acc = model.evaluate(X_test, y_test, verbose=0)\n",
    "print(f\"Test Accuracy: {acc:.6f}\")\n",
    "print(f\"Test loss: {loss:.6f}\")"
   ]
  },
  {
   "cell_type": "code",
   "execution_count": 9,
   "id": "4808fa77-21ed-4f50-beb7-92fd2428fcbb",
   "metadata": {},
   "outputs": [],
   "source": [
    "def generate_auto(seed_text, n):\n",
    "    for _ in range(n):\n",
    "        token_seq = tokenizer.texts_to_sequences([seed_text])[0]\n",
    "        token_seq = pad_sequences([token_seq], maxlen=max_len, padding='pre')\n",
    "        pred = model.predict(token_seq, verbose=0)\n",
    "        next_index = np.argmax(pred)\n",
    "        next_word = tokenizer.index_word[next_index]\n",
    "        seed_text += ' ' + next_word\n",
    "    return seed_text\n"
   ]
  },
  {
   "cell_type": "code",
   "execution_count": 10,
   "id": "72540b36-c9ab-4638-b980-a123f7fff5b8",
   "metadata": {
    "scrolled": true
   },
   "outputs": [
    {
     "name": "stdout",
     "output_type": "stream",
     "text": [
      "Auto-regressive (1단어씩 반복 생성):\n",
      "동해 물과 백두산이 마르고 저 보우하사 보우하사 우리나라\n"
     ]
    }
   ],
   "source": [
    "seed = \"동해 물과 백두산이 마르고\"\n",
    "\n",
    "print(\"Auto-regressive (1단어씩 반복 생성):\")\n",
    "print(generate_auto(seed, n=4))"
   ]
  },
  {
   "cell_type": "code",
   "execution_count": 11,
   "id": "42828d4a-4413-456c-b1c4-2e75d1060d94",
   "metadata": {},
   "outputs": [
    {
     "name": "stdout",
     "output_type": "stream",
     "text": [
      "동해 물과 백두산이 마르고 저 보우하사 보우하사\n"
     ]
    }
   ],
   "source": [
    "print(generate_auto(seed, n=3))"
   ]
  },
  {
   "cell_type": "code",
   "execution_count": 12,
   "id": "1bd073dd-4308-4e38-ae05-a1721ce45460",
   "metadata": {},
   "outputs": [
    {
     "name": "stdout",
     "output_type": "stream",
     "text": [
      "동해 물과 백두산이 마르고 저 보우하사\n"
     ]
    }
   ],
   "source": [
    "print(generate_auto(seed, n=2))"
   ]
  },
  {
   "cell_type": "code",
   "execution_count": null,
   "id": "b7fcf843-d0d2-401c-b6e1-824b95df0730",
   "metadata": {},
   "outputs": [],
   "source": []
  }
 ],
 "metadata": {
  "kernelspec": {
   "display_name": "tf3",
   "language": "python",
   "name": "tf3"
  },
  "language_info": {
   "codemirror_mode": {
    "name": "ipython",
    "version": 3
   },
   "file_extension": ".py",
   "mimetype": "text/x-python",
   "name": "python",
   "nbconvert_exporter": "python",
   "pygments_lexer": "ipython3",
   "version": "3.9.23"
  }
 },
 "nbformat": 4,
 "nbformat_minor": 5
}
